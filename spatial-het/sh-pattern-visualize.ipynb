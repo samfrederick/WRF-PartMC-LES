{
 "cells": [
  {
   "cell_type": "code",
   "execution_count": 1,
   "metadata": {},
   "outputs": [],
   "source": [
    "\n",
    "#from emiss_profiles import checkerboard_profile\n",
    "import numpy as np\n",
    "import os\n",
    "from mcnsh import mcnormspatialhet\n",
    "from nsh import normalizedspatialhet\n",
    "import matplotlib.pyplot as plt\n",
    "import matplotlib.colors as mplcolors\n",
    "import pandas as pd"
   ]
  },
  {
   "cell_type": "code",
   "execution_count": 2,
   "metadata": {},
   "outputs": [],
   "source": [
    "domain_x_cells = 40\n",
    "domain_y_cells = 40\n",
    "#scenario = 'point-source'\n",
    "scenario='single-road'\n",
    "#scenario = 'uniform-basecase'\n",
    "#scenario = 'fx1fy1'"
   ]
  },
  {
   "cell_type": "code",
   "execution_count": 5,
   "metadata": {},
   "outputs": [],
   "source": [
    "scenario_df = pd.DataFrame(columns=['scenario', 'NSH', 'scaling-factor'])\n"
   ]
  },
  {
   "cell_type": "code",
   "execution_count": 20,
   "metadata": {},
   "outputs": [
    {
     "name": "stdout",
     "output_type": "stream",
     "text": [
      "fx1fy0, scaling factor = 2.0, NSH = 0.334\n",
      "fx1fy1, scaling factor = 2.0, NSH = 0.168\n",
      "fx1fy2, scaling factor = 2.0, NSH = 0.102\n",
      "fx2fy0, scaling factor = 2.0, NSH = 0.203\n",
      "fx2fy2, scaling factor = 2.0, NSH = 0.062\n",
      "uniform-basecase, scaling factor = 1.0, NSH = 0.000\n",
      "point-source-4x4, scaling factor = 100.0, NSH = 0.918\n",
      "point-source-1x1, scaling factor = 1600.0, NSH = 1.000\n",
      "road-single, scaling factor = 40.0, NSH = 0.667\n",
      "road-double, scaling factor = 20.0, NSH = 0.643\n",
      "road-quad, scaling factor = 10.0, NSH = 0.606\n",
      "point-source-6x6, scaling factor = 44.44444444444444, NSH = 0.868\n",
      "point-source-8x8, scaling factor = 25.0, NSH = 0.818\n",
      "point-source-16x16, scaling factor = 6.25, NSH = 0.616\n",
      "road-8x, scaling factor = 5.0, NSH = 0.536\n",
      "point-source-10x10, scaling factor = 16.0, NSH = 0.768\n",
      "road-10x, scaling factor = 4.0, NSH = 0.502\n",
      "road-16x, scaling factor = 2.5, NSH = 0.402\n"
     ]
    }
   ],
   "source": [
    "cwd = os.getcwd()\n",
    "shdir = 'sh-patterns'\n",
    "griddir = f'xres{domain_x_cells}yres{domain_y_cells}'\n",
    "\n",
    "basecase_filename = 'uniform-basecase.csv'\n",
    "basecase_array_path = os.path.join(cwd, shdir, griddir, basecase_filename)\n",
    "basecase_arr = np.genfromtxt(basecase_array_path, delimiter=',')\n",
    "\n",
    "nsh_dict = {}\n",
    "i = 0\n",
    "for filename in os.listdir(os.path.join(cwd, shdir, griddir)):\n",
    "    if filename == 'fx0fy0.csv':\n",
    "        continue\n",
    "    scenario = filename.replace('.csv', '')\n",
    "    array_path = os.path.join(cwd, shdir, griddir, filename)\n",
    "    scenario_arr = np.genfromtxt(array_path, delimiter=',')\n",
    "    scaling_factor = basecase_arr.sum() / scenario_arr.sum()\n",
    "    scenario_arr = scaling_factor*scenario_arr\n",
    "    #arr_nsh = mcnormspatialhet(scenario_arr, n_permutes=100000)\n",
    "    arr_nsh = normalizedspatialhet(scenario_arr)\n",
    "    nsh_dict[scenario] = arr_nsh\n",
    "    print(f'{scenario}, scaling factor = {scaling_factor}, NSH = {arr_nsh:4.3f}')\n",
    "\n",
    "    scenario_df.loc[i, 'scenario'] = scenario\n",
    "    scenario_df.loc[i, 'NSH'] = arr_nsh\n",
    "    scenario_df.loc[i, 'scaling-factor'] = scaling_factor\n",
    "    i += 1\n",
    "\n",
    "sorted_nsh_dict = dict(sorted(nsh_dict.items(), key=lambda item: item[1]))"
   ]
  },
  {
   "cell_type": "code",
   "execution_count": 7,
   "metadata": {},
   "outputs": [
    {
     "data": {
      "text/plain": [
       "Text(0, 0.5, 'Scaling factor')"
      ]
     },
     "execution_count": 7,
     "metadata": {},
     "output_type": "execute_result"
    },
    {
     "data": {
      "image/png": "[encoded data removed]",
      "text/plain": [
       "<Figure size 432x288 with 1 Axes>"
      ]
     },
     "metadata": {
      "needs_background": "light"
     },
     "output_type": "display_data"
    }
   ],
   "source": [
    "plt.scatter(scenario_df.NSH, scenario_df['scaling-factor'])\n",
    "plt.yscale('log')\n",
    "plt.xlabel('NSH')\n",
    "plt.ylabel('Scaling factor')"
   ]
  },
  {
   "cell_type": "code",
   "execution_count": 8,
   "metadata": {},
   "outputs": [
    {
     "data": {
      "text/html": [
       "<div>\n",
       "<style scoped>\n",
       "    .dataframe tbody tr th:only-of-type {\n",
       "        vertical-align: middle;\n",
       "    }\n",
       "\n",
       "    .dataframe tbody tr th {\n",
       "        vertical-align: top;\n",
       "    }\n",
       "\n",
       "    .dataframe thead th {\n",
       "        text-align: right;\n",
       "    }\n",
       "</style>\n",
       "<table border=\"1\" class=\"dataframe\">\n",
       "  <thead>\n",
       "    <tr style=\"text-align: right;\">\n",
       "      <th></th>\n",
       "      <th>scenario</th>\n",
       "      <th>NSH</th>\n",
       "      <th>scaling-factor</th>\n",
       "    </tr>\n",
       "  </thead>\n",
       "  <tbody>\n",
       "    <tr>\n",
       "      <th>0</th>\n",
       "      <td>fx1fy0</td>\n",
       "      <td>0.334322</td>\n",
       "      <td>2.0</td>\n",
       "    </tr>\n",
       "    <tr>\n",
       "      <th>1</th>\n",
       "      <td>fx1fy1</td>\n",
       "      <td>0.167585</td>\n",
       "      <td>2.0</td>\n",
       "    </tr>\n",
       "    <tr>\n",
       "      <th>2</th>\n",
       "      <td>fx1fy2</td>\n",
       "      <td>0.101876</td>\n",
       "      <td>2.0</td>\n",
       "    </tr>\n",
       "    <tr>\n",
       "      <th>3</th>\n",
       "      <td>fx2fy0</td>\n",
       "      <td>0.203236</td>\n",
       "      <td>2.0</td>\n",
       "    </tr>\n",
       "    <tr>\n",
       "      <th>4</th>\n",
       "      <td>fx2fy2</td>\n",
       "      <td>0.061931</td>\n",
       "      <td>2.0</td>\n",
       "    </tr>\n",
       "    <tr>\n",
       "      <th>5</th>\n",
       "      <td>uniform-basecase</td>\n",
       "      <td>0.0</td>\n",
       "      <td>1.0</td>\n",
       "    </tr>\n",
       "    <tr>\n",
       "      <th>6</th>\n",
       "      <td>point-source-4x4</td>\n",
       "      <td>0.917654</td>\n",
       "      <td>100.0</td>\n",
       "    </tr>\n",
       "    <tr>\n",
       "      <th>7</th>\n",
       "      <td>point-source-1x1</td>\n",
       "      <td>1.0</td>\n",
       "      <td>1600.0</td>\n",
       "    </tr>\n",
       "    <tr>\n",
       "      <th>8</th>\n",
       "      <td>road-single</td>\n",
       "      <td>0.666524</td>\n",
       "      <td>40.0</td>\n",
       "    </tr>\n",
       "    <tr>\n",
       "      <th>9</th>\n",
       "      <td>road-double</td>\n",
       "      <td>0.643254</td>\n",
       "      <td>20.0</td>\n",
       "    </tr>\n",
       "    <tr>\n",
       "      <th>10</th>\n",
       "      <td>road-quad</td>\n",
       "      <td>0.605651</td>\n",
       "      <td>10.0</td>\n",
       "    </tr>\n",
       "    <tr>\n",
       "      <th>11</th>\n",
       "      <td>point-source-6x6</td>\n",
       "      <td>0.867772</td>\n",
       "      <td>44.444444</td>\n",
       "    </tr>\n",
       "    <tr>\n",
       "      <th>12</th>\n",
       "      <td>point-source-8x8</td>\n",
       "      <td>0.818069</td>\n",
       "      <td>25.0</td>\n",
       "    </tr>\n",
       "    <tr>\n",
       "      <th>13</th>\n",
       "      <td>point-source-16x16</td>\n",
       "      <td>0.616041</td>\n",
       "      <td>6.25</td>\n",
       "    </tr>\n",
       "    <tr>\n",
       "      <th>14</th>\n",
       "      <td>road-8x</td>\n",
       "      <td>0.536338</td>\n",
       "      <td>5.0</td>\n",
       "    </tr>\n",
       "    <tr>\n",
       "      <th>15</th>\n",
       "      <td>point-source-10x10</td>\n",
       "      <td>0.768131</td>\n",
       "      <td>16.0</td>\n",
       "    </tr>\n",
       "    <tr>\n",
       "      <th>16</th>\n",
       "      <td>road-10x</td>\n",
       "      <td>0.502394</td>\n",
       "      <td>4.0</td>\n",
       "    </tr>\n",
       "    <tr>\n",
       "      <th>17</th>\n",
       "      <td>road-16x</td>\n",
       "      <td>0.401547</td>\n",
       "      <td>2.5</td>\n",
       "    </tr>\n",
       "  </tbody>\n",
       "</table>\n",
       "</div>"
      ],
      "text/plain": [
       "              scenario       NSH scaling-factor\n",
       "0               fx1fy0  0.334322            2.0\n",
       "1               fx1fy1  0.167585            2.0\n",
       "2               fx1fy2  0.101876            2.0\n",
       "3               fx2fy0  0.203236            2.0\n",
       "4               fx2fy2  0.061931            2.0\n",
       "5     uniform-basecase       0.0            1.0\n",
       "6     point-source-4x4  0.917654          100.0\n",
       "7     point-source-1x1       1.0         1600.0\n",
       "8          road-single  0.666524           40.0\n",
       "9          road-double  0.643254           20.0\n",
       "10           road-quad  0.605651           10.0\n",
       "11    point-source-6x6  0.867772      44.444444\n",
       "12    point-source-8x8  0.818069           25.0\n",
       "13  point-source-16x16  0.616041           6.25\n",
       "14             road-8x  0.536338            5.0\n",
       "15  point-source-10x10  0.768131           16.0\n",
       "16            road-10x  0.502394            4.0\n",
       "17            road-16x  0.401547            2.5"
      ]
     },
     "execution_count": 8,
     "metadata": {},
     "output_type": "execute_result"
    }
   ],
   "source": [
    "scenario_df"
   ]
  },
  {
   "cell_type": "code",
   "execution_count": 58,
   "metadata": {},
   "outputs": [
    {
     "name": "stderr",
     "output_type": "stream",
     "text": [
      "/tmp/ipykernel_82397/932463839.py:3: MatplotlibDeprecationWarning: You are modifying the state of a globally registered colormap. This has been deprecated since 3.3 and in 3.6, you will not be able to modify a registered colormap in-place. To remove this warning, you can make a copy of the colormap first. cmap = mpl.cm.get_cmap(\"viridis\").copy()\n",
      "  cmap.set_bad('white')#'#dedede')\n"
     ]
    },
    {
     "name": "stdout",
     "output_type": "stream",
     "text": [
      "1.0\n",
      "0.0\n",
      "0.0\n",
      "0.0\n",
      "0.0\n",
      "0.0\n",
      "0.0\n",
      "0.0\n"
     ]
    },
    {
     "data": {
      "image/png": "[encoded data removed]",
      "text/plain": [
       "<Figure size 864x432 with 8 Axes>"
      ]
     },
     "metadata": {},
     "output_type": "display_data"
    }
   ],
   "source": [
    "fig, axs = plt.subplots(2, 4, figsize=(12, 6))\n",
    "cmap = plt.cm.get_cmap('viridis')\n",
    "cmap.set_bad('white')#'#dedede')\n",
    "\n",
    "analysis_scenarios = ['uniform-basecase', 'fx2fy2', 'fx1fy1', 'fx1fy0', \n",
    "                      'road-double', 'point-source-10x10', 'road-8x', 'road-16x'\n",
    "                     ]\n",
    "analysis_nsh_dict = {key: val for key, val in sorted_nsh_dict.items() if key in analysis_scenarios}\n",
    "\n",
    "i = 1\n",
    "\n",
    "for ax, scenario in zip(axs.flatten(), analysis_nsh_dict):\n",
    "    nshval = sorted_nsh_dict[scenario]\n",
    "    ax.set_xticks([])\n",
    "    ax.set_yticks([])\n",
    "    filename = f'{scenario}.csv'\n",
    "    array_path = os.path.join(cwd, shdir, griddir, filename)\n",
    "    scenario_arr = np.genfromtxt(array_path, delimiter=',')\n",
    "    scaling_factor = basecase_arr.sum() / scenario_arr.sum()\n",
    "    scenario_arr = scaling_factor*scenario_arr\n",
    "    vmin=.5\n",
    "    vmax=25\n",
    "    print(scenario_arr.min())\n",
    "    ax.pcolormesh(scenario_arr, norm=mplcolors.LogNorm(vmin, vmax), \n",
    "                  #norm=mplcolors.Normalize(vmin,vmax),\n",
    "                  cmap=cmap)\n",
    "    meanval = scenario_arr.mean()\n",
    "    variance = scenario_arr.std()**2\n",
    "\n",
    "    if scenario == 'uniform-basecase':\n",
    "        title_name = 'Uniform base case'\n",
    "    else:\n",
    "        title_name = f'Scenario {i}'\n",
    "        i += 1\n",
    "    ax.set_title(title_name)\n",
    "    ax.text(x=.5, y=.1, s=f'SH={nshval:3.2f}', horizontalalignment='center', transform=ax.transAxes,\n",
    "            bbox=dict(facecolor='white', alpha=.6, boxstyle='round'))\n",
    "    \n",
    "plt.savefig(f'SH-analysis-patterns.pdf', format='pdf', bbox_inches='tight')\n"
   ]
  },
  {
   "cell_type": "code",
   "execution_count": 27,
   "metadata": {},
   "outputs": [
    {
     "data": {
      "text/plain": [
       "{'uniform-basecase': 0.0,\n",
       " 'fx2fy2': 0.0619308756943207,\n",
       " 'fx1fy1': 0.1675848056087327,\n",
       " 'fx1fy0': 0.3343216322563847,\n",
       " 'road-16x': 0.40154716179217387,\n",
       " 'road-8x': 0.5363375565593407,\n",
       " 'road-double': 0.6432539779945964,\n",
       " 'point-source-10x10': 0.7681313623660289}"
      ]
     },
     "execution_count": 27,
     "metadata": {},
     "output_type": "execute_result"
    }
   ],
   "source": [
    "analysis_nsh_dict"
   ]
  },
  {
   "cell_type": "code",
   "execution_count": 54,
   "metadata": {},
   "outputs": [
    {
     "data": {
      "text/plain": [
       "3.872983346207417"
      ]
     },
     "execution_count": 54,
     "metadata": {},
     "output_type": "execute_result"
    }
   ],
   "source": [
    "scenario_arr.std()"
   ]
  },
  {
   "cell_type": "code",
   "execution_count": null,
   "metadata": {},
   "outputs": [],
   "source": []
  }
 ],
 "metadata": {
  "kernelspec": {
   "display_name": "base",
   "language": "python",
   "name": "python3"
  },
  "language_info": {
   "codemirror_mode": {
    "name": "ipython",
    "version": 3
   },
   "file_extension": ".py",
   "mimetype": "text/x-python",
   "name": "python",
   "nbconvert_exporter": "python",
   "pygments_lexer": "ipython3",
   "version": "3.9.12"
  }
 },
 "nbformat": 4,
 "nbformat_minor": 2
}
