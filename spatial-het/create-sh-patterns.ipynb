{
 "cells": [
  {
   "cell_type": "code",
   "execution_count": 2,
   "metadata": {},
   "outputs": [],
   "source": [
    "from emiss_profiles import checkerboard_profile\n",
    "import numpy as np\n",
    "import os\n",
    "from mcnsh import mcnormspatialhet\n",
    "from nsh import normalizedspatialhet"
   ]
  },
  {
   "cell_type": "code",
   "execution_count": 3,
   "metadata": {},
   "outputs": [],
   "source": [
    "def writeCheckerboardArray(fx, fy, xgrid, ygrid, zgrid, phase_shift=False):\n",
    "    cwd = os.getcwd()\n",
    "    subdir = 'sh-patterns'\n",
    "    griddir = f'xres{xgrid}yres{ygrid}'\n",
    "\n",
    "    if (fx != 0.5) and (fy != 0.5):\n",
    "        filename = f'fx{fx}fy{fy}.csv'\n",
    "    else:\n",
    "        filename = 'uniform-basecase.csv'\n",
    "    \n",
    "    max_val=1\n",
    "    min_val=0\n",
    "    arr = checkerboard_profile(fx, fy, xgrid, ygrid, zgrid, max_val, min_val, \n",
    "                               phase_shift=phase_shift)\n",
    "    \n",
    "    array_path = os.path.join(cwd, subdir, griddir, filename)\n",
    "    np.savetxt(array_path, arr.data[0][0], delimiter=',')\n",
    "    return array_path"
   ]
  },
  {
   "cell_type": "code",
   "execution_count": 4,
   "metadata": {},
   "outputs": [],
   "source": [
    "xgrid = 40\n",
    "ygrid = 40\n",
    "zgrid = 1"
   ]
  },
  {
   "cell_type": "code",
   "execution_count": 20,
   "metadata": {},
   "outputs": [],
   "source": [
    "# create checkerboard arrays for fx 0-2 and fy 0-2\n",
    "for fx in np.arange(3):\n",
    "    for fy in np.arange(3):\n",
    "        array_path = writeCheckerboardArray(fx, fy, xgrid, ygrid, zgrid)"
   ]
  },
  {
   "cell_type": "code",
   "execution_count": 21,
   "metadata": {},
   "outputs": [],
   "source": [
    "# create basecase (uniform emissions)\n",
    "fx = 0.5\n",
    "fy = 0.5\n",
    "array_path = writeCheckerboardArray(fx, fy, xgrid, ygrid, zgrid)"
   ]
  },
  {
   "cell_type": "code",
   "execution_count": 28,
   "metadata": {},
   "outputs": [],
   "source": [
    "# create road scenario (single strip vertically through center of domain)\n",
    "cwd = os.getcwd()\n",
    "subdir = 'sh-patterns'\n",
    "griddir = f'xres{xgrid}yres{ygrid}'\n",
    "\n",
    "filename = 'road-single.csv'\n",
    "\n",
    "max_val=1\n",
    "min_val=0\n",
    "arr = np.zeros((xgrid, ygrid))\n",
    "x_midpt = int(0.5*xgrid)\n",
    "arr[x_midpt:x_midpt+1, :] = 1\n",
    "\n",
    "array_path = os.path.join(cwd, subdir, griddir, filename)\n",
    "np.savetxt(array_path, arr, delimiter=',')"
   ]
  },
  {
   "cell_type": "code",
   "execution_count": 29,
   "metadata": {},
   "outputs": [],
   "source": [
    "# create road scenario (double strip vertically through center of domain)\n",
    "cwd = os.getcwd()\n",
    "subdir = 'sh-patterns'\n",
    "griddir = f'xres{xgrid}yres{ygrid}'\n",
    "\n",
    "filename = 'road-double.csv'\n",
    "\n",
    "max_val=1\n",
    "min_val=0\n",
    "arr = np.zeros((xgrid, ygrid))\n",
    "x_midpt = int(0.5*xgrid)\n",
    "arr[x_midpt-1:x_midpt+1, :] = 1\n",
    "\n",
    "array_path = os.path.join(cwd, subdir, griddir, filename)\n",
    "np.savetxt(array_path, arr, delimiter=',')"
   ]
  },
  {
   "cell_type": "code",
   "execution_count": 30,
   "metadata": {},
   "outputs": [],
   "source": [
    "# create road scenario (quad strip vertically through center of domain)\n",
    "cwd = os.getcwd()\n",
    "subdir = 'sh-patterns'\n",
    "griddir = f'xres{xgrid}yres{ygrid}'\n",
    "\n",
    "filename = 'road-quad.csv'\n",
    "\n",
    "max_val=1\n",
    "min_val=0\n",
    "arr = np.zeros((xgrid, ygrid))\n",
    "x_midpt = int(0.5*xgrid)\n",
    "arr[x_midpt-2:x_midpt+2, :] = 1\n",
    "\n",
    "array_path = os.path.join(cwd, subdir, griddir, filename)\n",
    "np.savetxt(array_path, arr, delimiter=',')"
   ]
  },
  {
   "cell_type": "code",
   "execution_count": 12,
   "metadata": {},
   "outputs": [],
   "source": [
    "# create road scenario (quad strip vertically through center of domain)\n",
    "cwd = os.getcwd()\n",
    "subdir = 'sh-patterns'\n",
    "griddir = f'xres{xgrid}yres{ygrid}'\n",
    "\n",
    "filename = 'road-8x.csv'\n",
    "\n",
    "max_val=1\n",
    "min_val=0\n",
    "arr = np.zeros((xgrid, ygrid))\n",
    "x_midpt = int(0.5*xgrid)\n",
    "arr[x_midpt-4:x_midpt+4, :] = 1\n",
    "\n",
    "array_path = os.path.join(cwd, subdir, griddir, filename)\n",
    "np.savetxt(array_path, arr, delimiter=',')"
   ]
  },
  {
   "cell_type": "code",
   "execution_count": 5,
   "metadata": {},
   "outputs": [],
   "source": [
    "# create road scenario (quad strip vertically through center of domain)\n",
    "cwd = os.getcwd()\n",
    "subdir = 'sh-patterns'\n",
    "griddir = f'xres{xgrid}yres{ygrid}'\n",
    "\n",
    "filename = 'road-16x.csv'\n",
    "\n",
    "max_val=1\n",
    "min_val=0\n",
    "arr = np.zeros((xgrid, ygrid))\n",
    "x_midpt = int(0.5*xgrid)\n",
    "arr[x_midpt-8:x_midpt+8, :] = 1\n",
    "\n",
    "array_path = os.path.join(cwd, subdir, griddir, filename)\n",
    "np.savetxt(array_path, arr, delimiter=',')"
   ]
  },
  {
   "cell_type": "code",
   "execution_count": 27,
   "metadata": {},
   "outputs": [],
   "source": [
    "# create single cell emission in center of domain\n",
    "cwd = os.getcwd()\n",
    "subdir = 'sh-patterns'\n",
    "griddir = f'xres{xgrid}yres{ygrid}'\n",
    "\n",
    "filename = 'point-source-1x1.csv'\n",
    "\n",
    "max_val=1\n",
    "min_val=0\n",
    "arr = np.zeros((xgrid, ygrid))\n",
    "x_midpt = int(0.5*xgrid)\n",
    "y_midpt = int(0.5*ygrid)\n",
    "arr[x_midpt:x_midpt+1, y_midpt:y_midpt+1] = 1\n",
    "\n",
    "array_path = os.path.join(cwd, subdir, griddir, filename)\n",
    "np.savetxt(array_path, arr, delimiter=',')"
   ]
  },
  {
   "cell_type": "code",
   "execution_count": 33,
   "metadata": {},
   "outputs": [],
   "source": [
    "# create 4x4 cell emission in center of domain\n",
    "cwd = os.getcwd()\n",
    "subdir = 'sh-patterns'\n",
    "griddir = f'xres{xgrid}yres{ygrid}'\n",
    "\n",
    "filename = 'point-source-4x4.csv'\n",
    "\n",
    "max_val=1\n",
    "min_val=0\n",
    "arr = np.zeros((xgrid, ygrid))\n",
    "x_midpt = int(0.5*xgrid)\n",
    "y_midpt = int(0.5*ygrid)\n",
    "arr[x_midpt-2:x_midpt+2, y_midpt-2:y_midpt+2] = 1\n",
    "\n",
    "array_path = os.path.join(cwd, subdir, griddir, filename)\n",
    "np.savetxt(array_path, arr, delimiter=',')"
   ]
  },
  {
   "cell_type": "code",
   "execution_count": 36,
   "metadata": {},
   "outputs": [],
   "source": [
    "# create 6x6 cell emission in center of domain\n",
    "cwd = os.getcwd()\n",
    "subdir = 'sh-patterns'\n",
    "griddir = f'xres{xgrid}yres{ygrid}'\n",
    "\n",
    "filename = 'point-source-6x6.csv'\n",
    "\n",
    "max_val=1\n",
    "min_val=0\n",
    "arr = np.zeros((xgrid, ygrid))\n",
    "x_midpt = int(0.5*xgrid)\n",
    "y_midpt = int(0.5*ygrid)\n",
    "arr[x_midpt-3:x_midpt+3, y_midpt-3:y_midpt+3] = 1\n",
    "\n",
    "array_path = os.path.join(cwd, subdir, griddir, filename)\n",
    "np.savetxt(array_path, arr, delimiter=',')"
   ]
  },
  {
   "cell_type": "code",
   "execution_count": 10,
   "metadata": {},
   "outputs": [],
   "source": [
    "# create 8x8 cell emission in center of domain\n",
    "cwd = os.getcwd()\n",
    "subdir = 'sh-patterns'\n",
    "griddir = f'xres{xgrid}yres{ygrid}'\n",
    "\n",
    "filename = 'point-source-8x8.csv'\n",
    "\n",
    "max_val=1\n",
    "min_val=0\n",
    "arr = np.zeros((xgrid, ygrid))\n",
    "x_midpt = int(0.5*xgrid)\n",
    "y_midpt = int(0.5*ygrid)\n",
    "arr[x_midpt-4:x_midpt+4, y_midpt-4:y_midpt+4] = 1\n",
    "\n",
    "array_path = os.path.join(cwd, subdir, griddir, filename)\n",
    "np.savetxt(array_path, arr, delimiter=',')"
   ]
  },
  {
   "cell_type": "code",
   "execution_count": 7,
   "metadata": {},
   "outputs": [],
   "source": [
    "# create 10x10 cell emission in center of domain\n",
    "cwd = os.getcwd()\n",
    "subdir = 'sh-patterns'\n",
    "griddir = f'xres{xgrid}yres{ygrid}'\n",
    "\n",
    "filename = 'point-source-10x10.csv'\n",
    "\n",
    "max_val=1\n",
    "min_val=0\n",
    "arr = np.zeros((xgrid, ygrid))\n",
    "x_midpt = int(0.5*xgrid)\n",
    "y_midpt = int(0.5*ygrid)\n",
    "arr[x_midpt-5:x_midpt+5, y_midpt-5:y_midpt+5] = 1\n",
    "\n",
    "array_path = os.path.join(cwd, subdir, griddir, filename)\n",
    "np.savetxt(array_path, arr, delimiter=',')"
   ]
  },
  {
   "cell_type": "code",
   "execution_count": 11,
   "metadata": {},
   "outputs": [],
   "source": [
    "# create 16x16 cell emission in center of domain\n",
    "cwd = os.getcwd()\n",
    "subdir = 'sh-patterns'\n",
    "griddir = f'xres{xgrid}yres{ygrid}'\n",
    "\n",
    "filename = 'point-source-16x16.csv'\n",
    "\n",
    "max_val=1\n",
    "min_val=0\n",
    "arr = np.zeros((xgrid, ygrid))\n",
    "x_midpt = int(0.5*xgrid)\n",
    "y_midpt = int(0.5*ygrid)\n",
    "arr[x_midpt-8:x_midpt+8, y_midpt-8:y_midpt+8] = 1\n",
    "\n",
    "array_path = os.path.join(cwd, subdir, griddir, filename)\n",
    "np.savetxt(array_path, arr, delimiter=',')"
   ]
  },
  {
   "cell_type": "code",
   "execution_count": 7,
   "metadata": {},
   "outputs": [],
   "source": [
    "my_data = np.genfromtxt(array_path, delimiter=',')"
   ]
  },
  {
   "cell_type": "code",
   "execution_count": 8,
   "metadata": {},
   "outputs": [],
   "source": [
    "import matplotlib.pyplot as plt"
   ]
  },
  {
   "cell_type": "code",
   "execution_count": 9,
   "metadata": {},
   "outputs": [
    {
     "data": {
      "image/png": "[encoded data removed]",
      "text/plain": [
       "<Figure size 432x432 with 1 Axes>"
      ]
     },
     "metadata": {
      "needs_background": "light"
     },
     "output_type": "display_data"
    }
   ],
   "source": [
    "fig, ax = plt.subplots(1, 1, figsize=(6,6))\n",
    "plt.pcolormesh(my_data)\n",
    "plt.xticks(np.arange(40), \"\")\n",
    "plt.yticks(np.arange(40), \"\")\n",
    "plt.grid()"
   ]
  },
  {
   "cell_type": "code",
   "execution_count": 44,
   "metadata": {},
   "outputs": [
    {
     "data": {
      "text/plain": [
       "(40, 40)"
      ]
     },
     "execution_count": 44,
     "metadata": {},
     "output_type": "execute_result"
    }
   ],
   "source": [
    "my_data.shape"
   ]
  },
  {
   "cell_type": "code",
   "execution_count": 45,
   "metadata": {},
   "outputs": [],
   "source": [
    "xgrid, ygrid = my_data.shape"
   ]
  },
  {
   "cell_type": "code",
   "execution_count": 46,
   "metadata": {},
   "outputs": [
    {
     "data": {
      "text/plain": [
       "40"
      ]
     },
     "execution_count": 46,
     "metadata": {},
     "output_type": "execute_result"
    }
   ],
   "source": [
    "xgrid"
   ]
  },
  {
   "cell_type": "code",
   "execution_count": 15,
   "metadata": {},
   "outputs": [
    {
     "data": {
      "text/plain": [
       "['fx0fy0.csv',\n",
       " 'fx0fy1.csv',\n",
       " 'fx0fy2.csv',\n",
       " 'fx1fy0.csv',\n",
       " 'fx1fy1.csv',\n",
       " 'fx1fy2.csv',\n",
       " 'fx2fy0.csv',\n",
       " 'fx2fy1.csv',\n",
       " 'fx2fy2.csv',\n",
       " 'point-source.csv',\n",
       " 'single-road.csv',\n",
       " 'uniform-basecase.csv']"
      ]
     },
     "execution_count": 15,
     "metadata": {},
     "output_type": "execute_result"
    }
   ],
   "source": [
    "os.listdir(os.path.join(cwd, shdir, griddir))"
   ]
  },
  {
   "cell_type": "code",
   "execution_count": 11,
   "metadata": {},
   "outputs": [],
   "source": [
    "domain_x_cells = 40\n",
    "domain_y_cells = 40\n",
    "#scenario = 'point-source'\n",
    "scenario='single-road'\n",
    "#scenario = 'uniform-basecase'\n",
    "#scenario = 'fx1fy1'"
   ]
  },
  {
   "cell_type": "code",
   "execution_count": 6,
   "metadata": {},
   "outputs": [
    {
     "ename": "NameError",
     "evalue": "name 'domain_x_cells' is not defined",
     "output_type": "error",
     "traceback": [
      "\u001b[0;31m---------------------------------------------------------------------------\u001b[0m",
      "\u001b[0;31mNameError\u001b[0m                                 Traceback (most recent call last)",
      "\u001b[1;32m/data/keeling/a/sf20/b/wrf-partmc-spatial-het/WRFV3/test/em_les/spatial-het/create-sh-patterns.ipynb Cell 25\u001b[0m line \u001b[0;36m<cell line: 3>\u001b[0;34m()\u001b[0m\n\u001b[1;32m      <a href='vscode-notebook-cell://ssh-remote%2Bkeeling/data/keeling/a/sf20/b/wrf-partmc-spatial-het/WRFV3/test/em_les/spatial-het/create-sh-patterns.ipynb#X32sdnNjb2RlLXJlbW90ZQ%3D%3D?line=0'>1</a>\u001b[0m cwd \u001b[39m=\u001b[39m os\u001b[39m.\u001b[39mgetcwd()\n\u001b[1;32m      <a href='vscode-notebook-cell://ssh-remote%2Bkeeling/data/keeling/a/sf20/b/wrf-partmc-spatial-het/WRFV3/test/em_les/spatial-het/create-sh-patterns.ipynb#X32sdnNjb2RlLXJlbW90ZQ%3D%3D?line=1'>2</a>\u001b[0m shdir \u001b[39m=\u001b[39m \u001b[39m'\u001b[39m\u001b[39msh-patterns\u001b[39m\u001b[39m'\u001b[39m\n\u001b[0;32m----> <a href='vscode-notebook-cell://ssh-remote%2Bkeeling/data/keeling/a/sf20/b/wrf-partmc-spatial-het/WRFV3/test/em_les/spatial-het/create-sh-patterns.ipynb#X32sdnNjb2RlLXJlbW90ZQ%3D%3D?line=2'>3</a>\u001b[0m griddir \u001b[39m=\u001b[39m \u001b[39mf\u001b[39m\u001b[39m'\u001b[39m\u001b[39mxres\u001b[39m\u001b[39m{\u001b[39;00mdomain_x_cells\u001b[39m}\u001b[39;00m\u001b[39myres\u001b[39m\u001b[39m{\u001b[39;00mdomain_y_cells\u001b[39m}\u001b[39;00m\u001b[39m'\u001b[39m\n\u001b[1;32m      <a href='vscode-notebook-cell://ssh-remote%2Bkeeling/data/keeling/a/sf20/b/wrf-partmc-spatial-het/WRFV3/test/em_les/spatial-het/create-sh-patterns.ipynb#X32sdnNjb2RlLXJlbW90ZQ%3D%3D?line=3'>4</a>\u001b[0m filename \u001b[39m=\u001b[39m \u001b[39mf\u001b[39m\u001b[39m'\u001b[39m\u001b[39m{\u001b[39;00mscenario\u001b[39m}\u001b[39;00m\u001b[39m.csv\u001b[39m\u001b[39m'\u001b[39m\n\u001b[1;32m      <a href='vscode-notebook-cell://ssh-remote%2Bkeeling/data/keeling/a/sf20/b/wrf-partmc-spatial-het/WRFV3/test/em_les/spatial-het/create-sh-patterns.ipynb#X32sdnNjb2RlLXJlbW90ZQ%3D%3D?line=4'>5</a>\u001b[0m array_path \u001b[39m=\u001b[39m os\u001b[39m.\u001b[39mpath\u001b[39m.\u001b[39mjoin(cwd, shdir, griddir, filename)\n",
      "\u001b[0;31mNameError\u001b[0m: name 'domain_x_cells' is not defined"
     ]
    }
   ],
   "source": [
    "cwd = os.getcwd()\n",
    "shdir = 'sh-patterns'\n",
    "griddir = f'xres{domain_x_cells}yres{domain_y_cells}'\n",
    "filename = f'{scenario}.csv'\n",
    "array_path = os.path.join(cwd, shdir, griddir, filename)\n",
    "arr = np.genfromtxt(array_path, delimiter=',')"
   ]
  },
  {
   "cell_type": "code",
   "execution_count": 8,
   "metadata": {},
   "outputs": [
    {
     "data": {
      "text/plain": [
       "array([[0., 0., 0., ..., 0., 0., 0.],\n",
       "       [0., 0., 0., ..., 0., 0., 0.],\n",
       "       [0., 0., 0., ..., 0., 0., 0.],\n",
       "       ...,\n",
       "       [0., 0., 0., ..., 0., 0., 0.],\n",
       "       [0., 0., 0., ..., 0., 0., 0.],\n",
       "       [0., 0., 0., ..., 0., 0., 0.]])"
      ]
     },
     "execution_count": 8,
     "metadata": {},
     "output_type": "execute_result"
    }
   ],
   "source": [
    "arr"
   ]
  },
  {
   "cell_type": "code",
   "execution_count": null,
   "metadata": {},
   "outputs": [],
   "source": []
  },
  {
   "cell_type": "code",
   "execution_count": 13,
   "metadata": {},
   "outputs": [],
   "source": [
    "arr_nsh = normalizedspatialhet(arr)"
   ]
  },
  {
   "cell_type": "code",
   "execution_count": 14,
   "metadata": {},
   "outputs": [
    {
     "data": {
      "text/plain": [
       "0.6665243381855231"
      ]
     },
     "execution_count": 14,
     "metadata": {},
     "output_type": "execute_result"
    }
   ],
   "source": [
    "arr_nsh"
   ]
  },
  {
   "cell_type": "code",
   "execution_count": null,
   "metadata": {},
   "outputs": [],
   "source": []
  },
  {
   "cell_type": "code",
   "execution_count": 73,
   "metadata": {},
   "outputs": [],
   "source": [
    "basecase_array_path = os.path.join(cwd, shdir, griddir, 'uniform-basecase.csv')\n",
    "basecase = np.genfromtxt(basecase_array_path, delimiter=',')"
   ]
  },
  {
   "cell_type": "code",
   "execution_count": 78,
   "metadata": {},
   "outputs": [],
   "source": [
    "emiss_scaling_factor = basecase.sum() / arr.sum()"
   ]
  },
  {
   "cell_type": "code",
   "execution_count": 79,
   "metadata": {},
   "outputs": [
    {
     "data": {
      "text/plain": [
       "1.0"
      ]
     },
     "execution_count": 79,
     "metadata": {},
     "output_type": "execute_result"
    }
   ],
   "source": [
    "emiss_scaling_factor"
   ]
  },
  {
   "cell_type": "code",
   "execution_count": 80,
   "metadata": {},
   "outputs": [
    {
     "data": {
      "text/plain": [
       "True"
      ]
     },
     "execution_count": 80,
     "metadata": {},
     "output_type": "execute_result"
    }
   ],
   "source": [
    "emiss_scaling_factor == 1.0"
   ]
  },
  {
   "cell_type": "code",
   "execution_count": 81,
   "metadata": {},
   "outputs": [
    {
     "data": {
      "text/plain": [
       "1.0"
      ]
     },
     "execution_count": 81,
     "metadata": {},
     "output_type": "execute_result"
    }
   ],
   "source": [
    "arr[0, 0]"
   ]
  },
  {
   "cell_type": "code",
   "execution_count": null,
   "metadata": {},
   "outputs": [],
   "source": []
  }
 ],
 "metadata": {
  "kernelspec": {
   "display_name": "base",
   "language": "python",
   "name": "python3"
  },
  "language_info": {
   "codemirror_mode": {
    "name": "ipython",
    "version": 3
   },
   "file_extension": ".py",
   "mimetype": "text/x-python",
   "name": "python",
   "nbconvert_exporter": "python",
   "pygments_lexer": "ipython3",
   "version": "3.9.12"
  }
 },
 "nbformat": 4,
 "nbformat_minor": 2
}
