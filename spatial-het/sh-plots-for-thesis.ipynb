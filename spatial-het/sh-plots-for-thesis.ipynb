{
 "cells": [
  {
   "cell_type": "code",
   "execution_count": 1,
   "metadata": {},
   "outputs": [],
   "source": [
    "import numpy as np\n",
    "import os\n",
    "#from mcnsh import mcnormspatialhet\n",
    "#from nsh import normalizedspatialhet\n",
    "import matplotlib.pyplot as plt\n",
    "import matplotlib.colors as mplcolors\n",
    "import pandas as pd\n",
    "import matplotlib\n",
    "from matplotlib.ticker import FormatStrFormatter\n",
    "matplotlib.rcParams['mathtext.fontset'] = 'stix'\n",
    "matplotlib.rcParams['font.family'] = 'STIXGeneral'"
   ]
  },
  {
   "cell_type": "code",
   "execution_count": 2,
   "metadata": {},
   "outputs": [],
   "source": [
    "domain_x_cells = 100\n",
    "domain_y_cells = 100\n",
    "#scenario = 'point-source'\n",
    "#scenario='single-road'\n",
    "#scenario = 'uniform-basecase'\n",
    "#scenario = 'fx1fy1'"
   ]
  },
  {
   "cell_type": "code",
   "execution_count": 3,
   "metadata": {},
   "outputs": [],
   "source": [
    "sh_dataset = pd.read_csv(f'sh_patterns_xres{domain_x_cells}_yres{domain_y_cells}_exact.csv', header=0)"
   ]
  },
  {
   "cell_type": "code",
   "execution_count": 7,
   "metadata": {},
   "outputs": [
    {
     "data": {
      "text/html": [
       "<div>\n",
       "<style scoped>\n",
       "    .dataframe tbody tr th:only-of-type {\n",
       "        vertical-align: middle;\n",
       "    }\n",
       "\n",
       "    .dataframe tbody tr th {\n",
       "        vertical-align: top;\n",
       "    }\n",
       "\n",
       "    .dataframe thead th {\n",
       "        text-align: right;\n",
       "    }\n",
       "</style>\n",
       "<table border=\"1\" class=\"dataframe\">\n",
       "  <thead>\n",
       "    <tr style=\"text-align: right;\">\n",
       "      <th></th>\n",
       "      <th>scenario</th>\n",
       "      <th>NSH</th>\n",
       "      <th>scaling-factor</th>\n",
       "    </tr>\n",
       "  </thead>\n",
       "  <tbody>\n",
       "    <tr>\n",
       "      <th>0</th>\n",
       "      <td>uniform-basecase</td>\n",
       "      <td>0.0000</td>\n",
       "      <td>1.00</td>\n",
       "    </tr>\n",
       "    <tr>\n",
       "      <th>1</th>\n",
       "      <td>fx2fy2</td>\n",
       "      <td>0.0622</td>\n",
       "      <td>2.00</td>\n",
       "    </tr>\n",
       "    <tr>\n",
       "      <th>2</th>\n",
       "      <td>fx1fy2</td>\n",
       "      <td>0.1019</td>\n",
       "      <td>2.00</td>\n",
       "    </tr>\n",
       "    <tr>\n",
       "      <th>3</th>\n",
       "      <td>fx1fy1</td>\n",
       "      <td>0.1668</td>\n",
       "      <td>2.00</td>\n",
       "    </tr>\n",
       "    <tr>\n",
       "      <th>4</th>\n",
       "      <td>fx2fy0</td>\n",
       "      <td>0.2036</td>\n",
       "      <td>2.00</td>\n",
       "    </tr>\n",
       "    <tr>\n",
       "      <th>5</th>\n",
       "      <td>fx1fy0</td>\n",
       "      <td>0.3335</td>\n",
       "      <td>2.00</td>\n",
       "    </tr>\n",
       "    <tr>\n",
       "      <th>6</th>\n",
       "      <td>road-10x</td>\n",
       "      <td>0.6011</td>\n",
       "      <td>10.00</td>\n",
       "    </tr>\n",
       "    <tr>\n",
       "      <th>7</th>\n",
       "      <td>road-8x</td>\n",
       "      <td>0.6147</td>\n",
       "      <td>12.50</td>\n",
       "    </tr>\n",
       "    <tr>\n",
       "      <th>8</th>\n",
       "      <td>road-4x</td>\n",
       "      <td>0.6424</td>\n",
       "      <td>25.00</td>\n",
       "    </tr>\n",
       "    <tr>\n",
       "      <th>9</th>\n",
       "      <td>road-2x</td>\n",
       "      <td>0.6574</td>\n",
       "      <td>50.00</td>\n",
       "    </tr>\n",
       "    <tr>\n",
       "      <th>10</th>\n",
       "      <td>road-1x</td>\n",
       "      <td>0.6666</td>\n",
       "      <td>100.00</td>\n",
       "    </tr>\n",
       "    <tr>\n",
       "      <th>11</th>\n",
       "      <td>point-source-16x16</td>\n",
       "      <td>0.8532</td>\n",
       "      <td>39.06</td>\n",
       "    </tr>\n",
       "    <tr>\n",
       "      <th>12</th>\n",
       "      <td>point-source-10x10</td>\n",
       "      <td>0.9105</td>\n",
       "      <td>100.00</td>\n",
       "    </tr>\n",
       "    <tr>\n",
       "      <th>13</th>\n",
       "      <td>point-source-8x8</td>\n",
       "      <td>0.9295</td>\n",
       "      <td>156.25</td>\n",
       "    </tr>\n",
       "    <tr>\n",
       "      <th>14</th>\n",
       "      <td>point-source-4x4</td>\n",
       "      <td>0.9677</td>\n",
       "      <td>625.00</td>\n",
       "    </tr>\n",
       "    <tr>\n",
       "      <th>15</th>\n",
       "      <td>point-source-2x2</td>\n",
       "      <td>0.9881</td>\n",
       "      <td>2500.00</td>\n",
       "    </tr>\n",
       "    <tr>\n",
       "      <th>16</th>\n",
       "      <td>point-source-1x1</td>\n",
       "      <td>1.0000</td>\n",
       "      <td>10000.00</td>\n",
       "    </tr>\n",
       "  </tbody>\n",
       "</table>\n",
       "</div>"
      ],
      "text/plain": [
       "              scenario     NSH  scaling-factor\n",
       "0     uniform-basecase  0.0000            1.00\n",
       "1               fx2fy2  0.0622            2.00\n",
       "2               fx1fy2  0.1019            2.00\n",
       "3               fx1fy1  0.1668            2.00\n",
       "4               fx2fy0  0.2036            2.00\n",
       "5               fx1fy0  0.3335            2.00\n",
       "6             road-10x  0.6011           10.00\n",
       "7              road-8x  0.6147           12.50\n",
       "8              road-4x  0.6424           25.00\n",
       "9              road-2x  0.6574           50.00\n",
       "10             road-1x  0.6666          100.00\n",
       "11  point-source-16x16  0.8532           39.06\n",
       "12  point-source-10x10  0.9105          100.00\n",
       "13    point-source-8x8  0.9295          156.25\n",
       "14    point-source-4x4  0.9677          625.00\n",
       "15    point-source-2x2  0.9881         2500.00\n",
       "16    point-source-1x1  1.0000        10000.00"
      ]
     },
     "execution_count": 7,
     "metadata": {},
     "output_type": "execute_result"
    }
   ],
   "source": [
    "sh_dataset"
   ]
  },
  {
   "cell_type": "code",
   "execution_count": 15,
   "metadata": {},
   "outputs": [
    {
     "data": {
      "text/plain": [
       "0.0622"
      ]
     },
     "execution_count": 15,
     "metadata": {},
     "output_type": "execute_result"
    }
   ],
   "source": [
    "sh_dataset[sh_dataset.scenario == 'fx2fy2'].NSH.values[0]"
   ]
  },
  {
   "cell_type": "code",
   "execution_count": 4,
   "metadata": {},
   "outputs": [
    {
     "name": "stderr",
     "output_type": "stream",
     "text": [
      "/tmp/ipykernel_79556/2301585877.py:7: MatplotlibDeprecationWarning: You are modifying the state of a globally registered colormap. This has been deprecated since 3.3 and in 3.6, you will not be able to modify a registered colormap in-place. To remove this warning, you can make a copy of the colormap first. cmap = mpl.cm.get_cmap(\"Spectral_r\").copy()\n",
      "  cmap.set_bad('white')#'#dedede')\n"
     ]
    },
    {
     "data": {
      "image/png": "[encoded data removed]",
      "text/plain": [
       "<Figure size 612x306 with 6 Axes>"
      ]
     },
     "metadata": {},
     "output_type": "display_data"
    }
   ],
   "source": [
    "cwd = os.getcwd()\n",
    "shdir = 'sh-patterns'\n",
    "griddir = f'xres{domain_x_cells}yres{domain_y_cells}'\n",
    "\n",
    "fig, axs = plt.subplots(2, 3, figsize=(8.5, 4.25))\n",
    "cmap = plt.cm.get_cmap('Spectral_r')\n",
    "cmap.set_bad('white')#'#dedede')\n",
    "\n",
    "analysis_scenarios = ['uniform-basecase', 'fx2fy2', 'fx1fy0', \n",
    "                      'road-10x', 'point-source-10x10', 'point-source-1x1'\n",
    "                     ]\n",
    "\n",
    "i = 1\n",
    "\n",
    "for ax, scenario in zip(axs.flatten(), analysis_scenarios):\n",
    "    nshval = sh_dataset[sh_dataset.scenario == scenario].NSH.values[0]\n",
    "    ax.set_xticks([])\n",
    "    ax.set_yticks([])\n",
    "    filename = f'{scenario}.csv'\n",
    "    array_path = os.path.join(cwd, shdir, griddir, filename)\n",
    "    scenario_arr = np.genfromtxt(array_path, delimiter=',')\n",
    "    scaling_factor = sh_dataset[sh_dataset.scenario == scenario][\"scaling-factor\"].values[0]\n",
    "    scenario_arr = scaling_factor*scenario_arr\n",
    "    vmin=1\n",
    "    vmax=10000\n",
    "    ax.pcolormesh(scenario_arr, norm=mplcolors.LogNorm(vmin, vmax), edgecolor='face',\n",
    "                  #norm=mplcolors.Normalize(vmin,vmax),\n",
    "                  cmap=cmap)\n",
    "    meanval = scenario_arr.mean()\n",
    "    variance = scenario_arr.std()**2\n",
    "\n",
    "    if scenario == 'uniform-basecase':\n",
    "        title_name = 'Uniform Base Case'\n",
    "    else:\n",
    "        title_name = f'Scenario {i}'\n",
    "        i += 1\n",
    "    ax.set_title(title_name, fontsize=12)\n",
    "    ax.text(x=.5, y=.07, s=f'$SH={nshval:3.2f}$\\n$\\overline{{f}}(S)={meanval:3.2f}$\\n$\\sigma^2={variance:3.2f}$',\n",
    "            fontsize=7.5, linespacing=1,\n",
    "            horizontalalignment='center', transform=ax.transAxes,\n",
    "            bbox=dict(facecolor='white', alpha=.6, boxstyle='round', lw=.6))\n",
    "    ax.set_aspect('equal', adjustable='box')\n",
    "    \n",
    "plt.savefig(f'SH-scenarios-all.pdf', format='pdf', bbox_inches='tight')\n"
   ]
  },
  {
   "cell_type": "code",
   "execution_count": 5,
   "metadata": {},
   "outputs": [
    {
     "name": "stderr",
     "output_type": "stream",
     "text": [
      "/tmp/ipykernel_79556/2638387704.py:7: MatplotlibDeprecationWarning: You are modifying the state of a globally registered colormap. This has been deprecated since 3.3 and in 3.6, you will not be able to modify a registered colormap in-place. To remove this warning, you can make a copy of the colormap first. cmap = mpl.cm.get_cmap(\"Spectral_r\").copy()\n",
      "  cmap.set_bad('white')#'#dedede')\n"
     ]
    },
    {
     "data": {
      "image/png": "[encoded data removed]",
      "text/plain": [
       "<Figure size 360x360 with 4 Axes>"
      ]
     },
     "metadata": {},
     "output_type": "display_data"
    }
   ],
   "source": [
    "cwd = os.getcwd()\n",
    "shdir = 'sh-patterns'\n",
    "griddir = f'xres{domain_x_cells}yres{domain_y_cells}'\n",
    "\n",
    "fig, axs = plt.subplots(2, 2, figsize=(5, 5))\n",
    "cmap = plt.cm.get_cmap('Spectral_r')\n",
    "cmap.set_bad('white')#'#dedede')\n",
    "\n",
    "analysis_scenarios = ['uniform-basecase', 'fx1fy0', \n",
    "                      'road-10x','point-source-1x1'\n",
    "                     ]\n",
    "\n",
    "i = 1\n",
    "\n",
    "for ax, scenario in zip(axs.flatten(), analysis_scenarios):\n",
    "    nshval = sh_dataset[sh_dataset.scenario == scenario].NSH.values[0]\n",
    "    ax.set_xticks([])\n",
    "    ax.set_yticks([])\n",
    "    filename = f'{scenario}.csv'\n",
    "    array_path = os.path.join(cwd, shdir, griddir, filename)\n",
    "    scenario_arr = np.genfromtxt(array_path, delimiter=',')\n",
    "    scaling_factor = sh_dataset[sh_dataset.scenario == scenario][\"scaling-factor\"].values[0]\n",
    "    scenario_arr = scaling_factor*scenario_arr\n",
    "    vmin=1\n",
    "    vmax=10000\n",
    "    ax.pcolormesh(scenario_arr, norm=mplcolors.LogNorm(vmin, vmax), edgecolor='face',\n",
    "                  #norm=mplcolors.Normalize(vmin,vmax),\n",
    "                  cmap=cmap)\n",
    "    meanval = scenario_arr.mean()\n",
    "    variance = scenario_arr.std()**2\n",
    "\n",
    "    if scenario == 'uniform-basecase':\n",
    "        title_name = 'Uniform Base Case'\n",
    "    else:\n",
    "        title_name = f'Scenario {i}'\n",
    "        i += 1\n",
    "    ax.set_title(title_name, fontsize=12)\n",
    "    ax.text(x=.5, y=.07, s=f'$SH={nshval:3.2f}$\\n$\\overline{{f}}(S)={meanval:3.2f}$\\n$\\sigma^2={variance:3.2f}$',\n",
    "            fontsize=7.5, linespacing=1,\n",
    "            horizontalalignment='center', transform=ax.transAxes,\n",
    "            bbox=dict(facecolor='white', alpha=.6, boxstyle='round', lw=.6))\n",
    "    ax.set_aspect('equal', adjustable='box')\n",
    "    \n",
    "plt.savefig(f'SH-scenarios-main-runs.pdf', format='pdf', bbox_inches='tight')\n"
   ]
  }
 ],
 "metadata": {
  "kernelspec": {
   "display_name": "base",
   "language": "python",
   "name": "python3"
  },
  "language_info": {
   "codemirror_mode": {
    "name": "ipython",
    "version": 3
   },
   "file_extension": ".py",
   "mimetype": "text/x-python",
   "name": "python",
   "nbconvert_exporter": "python",
   "pygments_lexer": "ipython3",
   "version": "3.9.12"
  }
 },
 "nbformat": 4,
 "nbformat_minor": 2
}
