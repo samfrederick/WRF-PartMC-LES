{
 "cells": [
  {
   "cell_type": "code",
   "execution_count": 1,
   "metadata": {},
   "outputs": [],
   "source": [
    "import netCDF4 as nc\n",
    "import numpy as np\n",
    "import pandas as pd"
   ]
  },
  {
   "cell_type": "code",
   "execution_count": 117,
   "metadata": {},
   "outputs": [],
   "source": [
    "def set_source_ids(n_modes, n_aero_sources):\n",
    "    source_ids = []\n",
    "    modes_per_source = int(n_modes/n_aero_sources)\n",
    "\n",
    "    for i in np.arange(1, 1+n_aero_sources):\n",
    "        for j in range(modes_per_source):\n",
    "            source_ids.append(i)\n",
    "    return np.array(source_ids)\n",
    "\n",
    "def set_char_radii(n_modes, n_aero_sources):\n",
    "    char_radii = []\n",
    "    modes_per_source = int(n_modes/n_aero_sources)\n",
    "\n",
    "    if modes_per_source == 2:\n",
    "        mode_char_radii = [1.8090e-08, 3.9905e-08] # using defaults from Jeff's aero_emit_dists_001_001_001.nc file\n",
    "    else:\n",
    "        raise ValueError(f'Undefined mode radii for number of modes per source: {modes_per_source}')\n",
    "\n",
    "    for i in np.arange(1, 1+n_aero_sources):\n",
    "        for radius in mode_char_radii:\n",
    "            char_radii.append(radius)\n",
    "    return np.array(char_radii)\n",
    "\n",
    "\n",
    "def set_log10_std_dev_radius(n_modes, n_aero_sources):\n",
    "    log10_std_dev_radii = []\n",
    "    modes_per_source = int(n_modes/n_aero_sources)\n",
    "\n",
    "    if modes_per_source == 2:\n",
    "        mode_stddev_radii = [0.20411998, 0.25527251] # using defaults from Jeff's aero_emit_dists_001_001_001.nc file\n",
    "    else:\n",
    "        raise ValueError(f'Undefined mode std dev for number of modes per source: {modes_per_source}')\n",
    "\n",
    "    for i in np.arange(1, 1+n_aero_sources):\n",
    "        for radius in mode_stddev_radii:\n",
    "            log10_std_dev_radii.append(radius)\n",
    "    return np.array(log10_std_dev_radii)\n",
    "\n",
    "def set_num_conc(n_times, n_modes):\n",
    "    # setting number concentration of each mode to zero at each time\n",
    "    num_conc = np.zeros((n_times, n_modes))\n",
    "    #for i in range(n_times):\n",
    "    #    num_conc[i] = np.zeros(n_modes) \n",
    "    return num_conc\n",
    "\n",
    "def set_vol_frac(n_times, n_modes, n_aero_specs):\n",
    "\n",
    "    vol_frac = np.zeros((n_times, n_modes, n_aero_specs))\n",
    "\n",
    "    for itime in range(n_times):\n",
    "        for imode in range(n_modes):\n",
    "            for ispecies in range(n_aero_specs):\n",
    "                # For now, just set the volume fraction to be equal across all species\n",
    "                # Makes it easy to ensure that volume fractions add up to one\n",
    "                spec_vol_frac = 1 / n_aero_specs\n",
    "                vol_frac[itime, imode, ispecies] = spec_vol_frac\n",
    "\n",
    "    return vol_frac\n",
    "\n",
    "def set_gas_emission(n_times, n_gas_specs):\n",
    "\n",
    "    # Using emission rates from center of CARES domain, aero_emit_dists_085_080_001.nc, variable name 'gas_emission', t index = 0\n",
    "    emiss_data = pd.read_csv('/data/keeling/a/sf20/b/wrf_partmc/WRFV3/test/em_les/cares_gas_emiss_rates.csv')\n",
    "    emission_rates = np.zeros((n_times, n_gas_specs))\n",
    "\n",
    "    for itime in range(n_times):\n",
    "        for ispec in range(n_gas_specs):\n",
    "            # NOTE: set all gas phase emission rates to zero for now\n",
    "            spec_emiss_rate = emiss_data.loc[ispec, 'Emission rate (mol m^{-2} s^{-1})']\n",
    "            emission_rates[itime, ispec] = spec_emiss_rate\n",
    "    return emission_rates\n"
   ]
  },
  {
   "cell_type": "code",
   "execution_count": 118,
   "metadata": {},
   "outputs": [],
   "source": [
    "file_path = '/data/keeling/a/sf20/b/wrf_partmc/WRFV3/test/em_les/test.nc'\n",
    "ncfile = nc.Dataset(file_path, 'w')\n",
    "\n",
    "# Dimension values\n",
    "n_times = 25\n",
    "n_modes = 2\n",
    "n_aero_specs = 20\n",
    "n_aero_sources = 1\n",
    "n_gas_specs = 77\n",
    "\n",
    "one_hour = 3600\n",
    "\n",
    "# Create dimensions\n",
    "times_dim = ncfile.createDimension('n_times', n_times)\n",
    "modes_dim = ncfile.createDimension('n_modes', n_modes)\n",
    "aero_specs_dim = ncfile.createDimension('n_aero_specs', n_aero_specs)\n",
    "aero_sources_dim = ncfile.createDimension('n_aero_sources', n_aero_sources)\n",
    "gas_specs_dim = ncfile.createDimension('n_gas_specs', n_gas_specs)\n",
    "\n",
    "# Create variables and set values\n",
    "aero_emission_rate_scale = ncfile.createVariable('aero_emission_rate_scale', 'f8', ('n_times'))\n",
    "aero_emission_rate_scale.unit = '(1)'\n",
    "aero_emission_rate_scale.long_name = \"Aerosol emission rate\"\n",
    "aero_emission_rate_scale.description = \"Aerosol emission rate scales at set-points\"\n",
    "aero_emission_rate_scale[:] = 1 # set all rates to 1\n",
    "\n",
    "aero_emission_time = ncfile.createVariable('aero_emission_time', 'f8', ('n_times'))\n",
    "aero_emission_time.unit = 's'\n",
    "aero_emission_time.long_name = \"Aerosol emission time\"\n",
    "aero_emission_time.description = \"Aerosol emission set-points times (s).\"\n",
    "aero_emission_time[:] = np.arange(0, n_times*one_hour, one_hour) # set times to each hour during a 24hr period\n",
    "\n",
    "# Using Jeff's presets for characteristic radii\n",
    "char_radius = ncfile.createVariable('char_radius', 'f8', ('n_modes'))\n",
    "char_radius.unit = 'm'\n",
    "char_radius.long_name = \"characteristic_radius\"\n",
    "char_radius.standard_name = \"characteristic_radius\"\n",
    "char_radius.description = \"Characteristic radius, with meaning dependent on mode type\"\n",
    "char_radius[:] = set_char_radii(n_modes, n_aero_sources)\n",
    "\n",
    "# Using Jeff's presets for log10 std dev of radius\n",
    "log10_std_dev_radius = ncfile.createVariable('log10_std_dev_radius', 'f8', ('n_modes'))\n",
    "log10_std_dev_radius.unit = 'm'\n",
    "log10_std_dev_radius.long_name = \"log10_std_dev_radius\"\n",
    "log10_std_dev_radius.standard_name = \"log10_std_dev_radius\"\n",
    "log10_std_dev_radius.description = \"Log base 10 of geometric standard deviation of radius, (m).\"\n",
    "log10_std_dev_radius[:] = set_log10_std_dev_radius(n_modes, n_aero_sources)\n",
    "\n",
    "source_id = ncfile.createVariable('source_id', 'i', ('n_modes'))\n",
    "source_id.unit = '(1)'\n",
    "source_id.long_name = \"Source number.\"\n",
    "source_id.standard_name = \"Source number\"\n",
    "source_id.description = \"Source number for each emission mode.\"\n",
    "source_id[:] = set_source_ids(n_modes, n_aero_sources)\n",
    "\n",
    "# NOTE: currently setting number concentration to zero!\n",
    "# TODO: Modify for non-zero aerosol emissions!\n",
    "num_conc = ncfile.createVariable('num_conc', 'f8', ('n_times', 'n_modes'))\n",
    "num_conc.unit = '# m^{-3}'\n",
    "num_conc.long_name = \"total number concentration\"\n",
    "num_conc.standard_name = \"total number concentration\"\n",
    "num_conc.description = \"Total number concentration of mode (#/m^3).\"\n",
    "num_conc[:] = set_num_conc(n_times, n_modes)\n",
    "\n",
    "vol_frac = ncfile.createVariable('vol_frac', 'f8', ('n_times', 'n_modes', 'n_aero_specs'))\n",
    "vol_frac.unit = '(1)'\n",
    "vol_frac.long_name = \"species fractions\"\n",
    "vol_frac.standard_name = \"species_fractions\"\n",
    "vol_frac.description = \"Species fractions by volume [length \\\\c aero_data%%n_spec].\"\n",
    "vol_frac[:] = set_vol_frac(n_times, n_modes, n_aero_specs)\n",
    "\n",
    "# NOTE: Not entire sure what values I should assign here\n",
    "source_weight_class = ncfile.createVariable('source_weight_class', 'i', ('n_modes'))\n",
    "source_weight_class.unit = '(1)'\n",
    "source_weight_class.long_name = \"Aerosol weight class\"\n",
    "source_weight_class.description = \"Weight class ID for each aerosol mode.\"\n",
    "source_weight_class[:] = 1 # just set all wieght classes to 1 for now\n",
    "\n",
    "aero_source = ncfile.createVariable('aero_source', 'i', ('n_aero_sources'))\n",
    "aero_source.names = 'ideal_source'\n",
    "aero_source.description = \"dummy dimension variable (no useful value) - read source names as comma-separated values from the \\'names\\' attribute\"\n",
    "aero_source[:] = np.arange(1, n_aero_sources+1, 1)\n",
    "\n",
    "# NOTE: Jeff has these values set to 5e-2 for most gas species for some reason?\n",
    "gas_emission_rate_scale = ncfile.createVariable('gas_emission_rate_scale', 'f8', ('n_times'))\n",
    "gas_emission_rate_scale.unit = '(1)'\n",
    "gas_emission_rate_scale.long_name = \"Gas emission rate scale factor\"\n",
    "gas_emission_rate_scale.description = \"Gas emission rate scales at set-points\"\n",
    "gas_emission_rate_scale[:] = 1 # set all rates to 1\n",
    "\n",
    "gas_emission_time = ncfile.createVariable('gas_emission_time', 'f8', ('n_times'))\n",
    "gas_emission_time.unit = 's'\n",
    "gas_emission_time.long_name = \"Gas emission time\"\n",
    "gas_emission_time.description = \"Gas emission set-points times (s).\"\n",
    "gas_emission_time[:] = np.arange(0, n_times*one_hour, one_hour) # set times to each hour during a 24hr period\n",
    "\n",
    "# NOTE: set using values in center of CARES domain, will need case for zero emission (simple, just set array all zero)\n",
    "gas_emission = ncfile.createVariable('gas_emission', 'f8', ('n_times', 'n_gas_specs'))\n",
    "gas_emission.unit = 'mol m^{-2} s^{-1}'\n",
    "gas_emission.long_name = \"gas emissions\"\n",
    "gas_emission.standard_name = \"gas emissions\"\n",
    "gas_emission.description = \"gas phase emission rates.\"\n",
    "gas_emission[:] = set_gas_emission(n_times, n_gas_specs)\n",
    "\n",
    "ncfile.close()\n"
   ]
  },
  {
   "cell_type": "code",
   "execution_count": 2,
   "metadata": {},
   "outputs": [],
   "source": [
    "#path = '/data/keeling/a/sf20/b/wrf_partmc/WRFV3/test/em_les/CARES_aero_emit_dists_001_001_001.nc'\n",
    "path = '/data/keeling/a/jcurtis2/d/wrf_partmc_keeling_dev/wrf_partmc/emissions/cares_emissions_json/aero_emit_dists_085_080_001.nc'\n",
    "data = nc.Dataset(path)"
   ]
  },
  {
   "cell_type": "code",
   "execution_count": 7,
   "metadata": {},
   "outputs": [
    {
     "data": {
      "text/plain": [
       "<class 'netCDF4._netCDF4.Dataset'>\n",
       "root group (NETCDF4 data model, file format HDF5):\n",
       "    dimensions(sizes): n_times(49), n_modes(100), n_aero_specs(20), n_aero_sources(50), n_gas_specs(77)\n",
       "    variables(dimensions): float64 aero_emission_rate_scale(n_times), float64 aero_emission_time(n_times), float64 char_radius(n_modes), float64 log10_std_dev_radius(n_modes), int32 source_id(n_modes), float64 num_conc(n_times, n_modes), float64 vol_frac(n_times, n_modes, n_aero_specs), int32 source_weight_class(n_modes), int32 aero_source(n_aero_sources), float64 gas_emission_rate_scale(n_times), float64 gas_emission_time(n_times), float64 gas_emission(n_times, n_gas_specs)\n",
       "    groups: "
      ]
     },
     "execution_count": 7,
     "metadata": {},
     "output_type": "execute_result"
    }
   ],
   "source": [
    "data"
   ]
  },
  {
   "cell_type": "code",
   "execution_count": 13,
   "metadata": {},
   "outputs": [
    {
     "data": {
      "text/plain": [
       "<class 'netCDF4._netCDF4.Variable'>\n",
       "float64 num_conc(n_times, n_modes)\n",
       "    unit: # m^{-3}\n",
       "    long_name: total number concentration\n",
       "    standard_name: total number concentration\n",
       "    description: Total number concentration of mode (#/m^3).\n",
       "unlimited dimensions: \n",
       "current shape = (49, 100)\n",
       "filling on, default _FillValue of 9.969209968386869e+36 used"
      ]
     },
     "execution_count": 13,
     "metadata": {},
     "output_type": "execute_result"
    }
   ],
   "source": [
    "data['num_conc']"
   ]
  },
  {
   "cell_type": "code",
   "execution_count": 12,
   "metadata": {},
   "outputs": [
    {
     "data": {
      "text/plain": [
       "masked_array(data=[0.00000000e+00, 0.00000000e+00, 7.39081411e+00,\n",
       "                   7.43530644e+02, 0.00000000e+00, 0.00000000e+00,\n",
       "                   0.00000000e+00, 0.00000000e+00, 0.00000000e+00,\n",
       "                   0.00000000e+00, 0.00000000e+00, 0.00000000e+00,\n",
       "                   0.00000000e+00, 0.00000000e+00, 0.00000000e+00,\n",
       "                   0.00000000e+00, 0.00000000e+00, 0.00000000e+00,\n",
       "                   0.00000000e+00, 0.00000000e+00, 0.00000000e+00,\n",
       "                   0.00000000e+00, 1.42814251e+03, 1.43673982e+05,\n",
       "                   4.90894592e+03, 2.52785212e+06, 2.92782505e+02,\n",
       "                   1.50767788e+05, 0.00000000e+00, 0.00000000e+00,\n",
       "                   0.00000000e+00, 0.00000000e+00, 0.00000000e+00,\n",
       "                   0.00000000e+00, 1.70519619e+04, 2.14011574e+05,\n",
       "                   0.00000000e+00, 0.00000000e+00, 1.61503502e+02,\n",
       "                   1.57900240e+02, 1.31540469e+03, 3.81533715e+03,\n",
       "                   1.56797462e+03, 4.39125440e+03, 0.00000000e+00,\n",
       "                   0.00000000e+00, 3.37655367e+03, 6.93283938e+03,\n",
       "                   0.00000000e+00, 0.00000000e+00, 1.64375163e+02,\n",
       "                   2.73877545e+03, 9.77567375e-01, 1.34607213e+01,\n",
       "                   1.54301238e+01, 2.11672044e+02, 9.21089727e+01,\n",
       "                   2.90404593e+03, 2.81419187e+00, 5.51494869e+01,\n",
       "                   0.00000000e+00, 0.00000000e+00, 0.00000000e+00,\n",
       "                   0.00000000e+00, 0.00000000e+00, 0.00000000e+00,\n",
       "                   0.00000000e+00, 0.00000000e+00, 0.00000000e+00,\n",
       "                   0.00000000e+00, 0.00000000e+00, 0.00000000e+00,\n",
       "                   0.00000000e+00, 0.00000000e+00, 0.00000000e+00,\n",
       "                   0.00000000e+00, 0.00000000e+00, 0.00000000e+00,\n",
       "                   0.00000000e+00, 0.00000000e+00, 6.75037405e+01,\n",
       "                   6.59976768e+01, 0.00000000e+00, 0.00000000e+00,\n",
       "                   0.00000000e+00, 0.00000000e+00, 4.20299506e+00,\n",
       "                   2.71566608e+02, 2.58599162e+01, 2.37919132e+02,\n",
       "                   0.00000000e+00, 0.00000000e+00, 0.00000000e+00,\n",
       "                   0.00000000e+00, 0.00000000e+00, 0.00000000e+00,\n",
       "                   0.00000000e+00, 0.00000000e+00, 0.00000000e+00,\n",
       "                   0.00000000e+00],\n",
       "             mask=False,\n",
       "       fill_value=1e+20)"
      ]
     },
     "execution_count": 12,
     "metadata": {},
     "output_type": "execute_result"
    }
   ],
   "source": [
    "data['num_conc'][0, :]"
   ]
  },
  {
   "cell_type": "code",
   "execution_count": 5,
   "metadata": {},
   "outputs": [
    {
     "data": {
      "text/plain": [
       "<class 'netCDF4._netCDF4.Variable'>\n",
       "int32 aero_source(n_aero_sources)\n",
       "    names: agr_fires,aircraft,biogenic,cooking,egu_biomass,egu_coalBrown,egu_coalHard_nop,egu_coalHard_pul,egu_natgas,egu_oil,egu_other,nonroad_diesel,nonroad_gas2strk,nonroad_gas4strk,nonroad_other,np_agr,np_coal,np_fdust,np_gasops,np_indus_oil,np_indus_wood,np_natgas,np_oilgas,np_other,np_rail,onroad_hddiesel,onroad_hdgas,onroad_lddiesel,onroad_ldgas,onroad_other,pt_biomass,pt_coal,pt_fdust,pt_gasops,pt_indus_wood,pt_inuds_oil,pt_natgas,pt_oilgas,pt_other,pt_rail,res_diesel,res_fireplace,res_furnace,res_openfire,res_other,res_woodstove,rx_fires,ship_diesel,ship_int,wild_fires\n",
       "    description: dummy dimension variable (no useful value) - read source names as comma-separated values from the 'names' attribute\n",
       "unlimited dimensions: \n",
       "current shape = (50,)\n",
       "filling on, default _FillValue of -2147483647 used"
      ]
     },
     "execution_count": 5,
     "metadata": {},
     "output_type": "execute_result"
    }
   ],
   "source": [
    "data['aero_source']"
   ]
  },
  {
   "cell_type": "code",
   "execution_count": 122,
   "metadata": {},
   "outputs": [],
   "source": [
    "test_data = nc.Dataset('test.nc')"
   ]
  },
  {
   "cell_type": "code",
   "execution_count": 123,
   "metadata": {},
   "outputs": [
    {
     "data": {
      "text/plain": [
       "masked_array(data=[0.00e+00, 0.00e+00, 0.00e+00, 4.86e-08, 2.21e-09,\n",
       "                   1.88e-10, 0.00e+00, 0.00e+00, 1.63e-11, 0.00e+00,\n",
       "                   0.00e+00, 0.00e+00, 0.00e+00, 0.00e+00, 0.00e+00,\n",
       "                   0.00e+00, 2.82e-08, 3.76e-12, 9.19e-10, 1.28e-10,\n",
       "                   0.00e+00, 0.00e+00, 2.23e-10, 8.93e-13, 2.62e-10,\n",
       "                   0.00e+00, 0.00e+00, 1.13e-10, 0.00e+00, 0.00e+00,\n",
       "                   0.00e+00, 0.00e+00, 0.00e+00, 0.00e+00, 0.00e+00,\n",
       "                   0.00e+00, 0.00e+00, 0.00e+00, 0.00e+00, 0.00e+00,\n",
       "                   5.05e-09, 3.04e-12, 0.00e+00, 3.93e-10, 3.54e-10,\n",
       "                   2.46e-10, 1.40e-10, 1.21e-10, 0.00e+00, 0.00e+00,\n",
       "                   0.00e+00, 0.00e+00, 0.00e+00, 0.00e+00, 0.00e+00,\n",
       "                   0.00e+00, 0.00e+00, 0.00e+00, 0.00e+00, 2.22e-13,\n",
       "                   0.00e+00, 0.00e+00, 0.00e+00, 0.00e+00, 0.00e+00,\n",
       "                   0.00e+00, 0.00e+00, 0.00e+00, 0.00e+00, 0.00e+00,\n",
       "                   0.00e+00, 0.00e+00, 0.00e+00, 0.00e+00, 0.00e+00,\n",
       "                   0.00e+00, 7.05e-16],\n",
       "             mask=False,\n",
       "       fill_value=1e+20)"
      ]
     },
     "execution_count": 123,
     "metadata": {},
     "output_type": "execute_result"
    }
   ],
   "source": [
    "test_data['gas_emission'][0]"
   ]
  },
  {
   "cell_type": "code",
   "execution_count": null,
   "metadata": {},
   "outputs": [],
   "source": [
    "fill('')"
   ]
  }
 ],
 "metadata": {
  "kernelspec": {
   "display_name": "base",
   "language": "python",
   "name": "python3"
  },
  "language_info": {
   "codemirror_mode": {
    "name": "ipython",
    "version": 3
   },
   "file_extension": ".py",
   "mimetype": "text/x-python",
   "name": "python",
   "nbconvert_exporter": "python",
   "pygments_lexer": "ipython3",
   "version": "3.9.12"
  },
  "orig_nbformat": 4
 },
 "nbformat": 4,
 "nbformat_minor": 2
}
