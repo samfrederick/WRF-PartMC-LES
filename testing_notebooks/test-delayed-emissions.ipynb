{
 "cells": [
  {
   "cell_type": "markdown",
   "metadata": {},
   "source": [
    "Testing out delaying emissions by an hour from initial simulation spin up at 9 AM sim start"
   ]
  },
  {
   "cell_type": "code",
   "execution_count": 5,
   "metadata": {},
   "outputs": [],
   "source": [
    "import netCDF4 as nc\n",
    "import os\n",
    "import matplotlib.pyplot as plt\n",
    "import numpy as np\n"
   ]
  },
  {
   "cell_type": "markdown",
   "metadata": {},
   "source": [
    "Note that the way the `aero_emis_dist` files are defined, emissions are based on *elapsed time* rather than the clock time of the simulation. For example, to delay emissions from the start of the sim (irrespective of the UTC start time) by 1 hour, the `num_conc` variable in the `aero_emit_dist` files should look like\n",
    "\n",
    "``` \n",
    "data:\n",
    "\n",
    " num_conc =\n",
    "  0, 0, 0,\n",
    "  144000000, 2560000000, 800000000,\n",
    "  144000000, 2560000000, 800000000,\n",
    "  144000000, 2560000000, 800000000,\n",
    "  144000000, 2560000000, 800000000,\n",
    "  144000000, 2560000000, 800000000,\n",
    "  144000000, 2560000000, 800000000,\n",
    "  144000000, 2560000000, 800000000,\n",
    "  144000000, 2560000000, 800000000,\n",
    "  144000000, 2560000000, 800000000,\n",
    "  144000000, 2560000000, 800000000,\n",
    "  144000000, 2560000000, 800000000,\n",
    "  144000000, 2560000000, 800000000,\n",
    "  144000000, 2560000000, 800000000,\n",
    "  144000000, 2560000000, 800000000,\n",
    "  144000000, 2560000000, 800000000,\n",
    "  144000000, 2560000000, 800000000,\n",
    "  144000000, 2560000000, 800000000,\n",
    "  144000000, 2560000000, 800000000,\n",
    "  144000000, 2560000000, 800000000,\n",
    "  144000000, 2560000000, 800000000,\n",
    "  144000000, 2560000000, 800000000,\n",
    "  144000000, 2560000000, 800000000,\n",
    "  144000000, 2560000000, 800000000 ;\n",
    "}\n",
    "```"
   ]
  },
  {
   "cell_type": "code",
   "execution_count": 6,
   "metadata": {},
   "outputs": [],
   "source": [
    "output_path = '/data/nriemer/d/sf20/les_output/wrf-partmc'\n",
    "\n",
    "emisstest_subdir = os.path.join(output_path, 'slurm-1909469') # 9:00 to 10:05\n",
    "emisstest_aerodata = nc.Dataset(os.path.join(emisstest_subdir, 'aerosols_d01_2023-03-20_09:00:00'))"
   ]
  },
  {
   "cell_type": "markdown",
   "metadata": {},
   "source": [
    "BC only emitted (not in the IC) so should be a good test for when emissions occur"
   ]
  },
  {
   "cell_type": "code",
   "execution_count": 7,
   "metadata": {},
   "outputs": [
    {
     "data": {
      "text/plain": [
       "masked_array(data=[0.0000000e+00, 0.0000000e+00, 0.0000000e+00,\n",
       "                   0.0000000e+00, 0.0000000e+00, 0.0000000e+00,\n",
       "                   0.0000000e+00, 0.0000000e+00, 0.0000000e+00,\n",
       "                   0.0000000e+00, 0.0000000e+00, 0.0000000e+00,\n",
       "                   0.0000000e+00, 3.0409364e-09],\n",
       "             mask=False,\n",
       "       fill_value=1e+20,\n",
       "            dtype=float32)"
      ]
     },
     "execution_count": 7,
     "metadata": {},
     "output_type": "execute_result"
    }
   ],
   "source": [
    "# BC values each minute at center of domain at the surface\n",
    "emisstest_aerodata['pmc_BC'][:, 0, 20, 20]"
   ]
  },
  {
   "cell_type": "code",
   "execution_count": 9,
   "metadata": {},
   "outputs": [
    {
     "data": {
      "text/plain": [
       "Text(0.5, 1.0, 'i=20, j=20, k=0')"
      ]
     },
     "execution_count": 9,
     "metadata": {},
     "output_type": "execute_result"
    },
    {
     "data": {
      "image/png": "[encoded data removed]",
      "text/plain": [
       "<Figure size 432x288 with 1 Axes>"
      ]
     },
     "metadata": {
      "needs_background": "light"
     },
     "output_type": "display_data"
    }
   ],
   "source": [
    "plt.plot(np.arange(0, 66, 5), emisstest_aerodata['pmc_BC'][:, 0, 20, 20])\n",
    "plt.xlabel('Elapsed time (mins)')\n",
    "plt.ylabel('pmc_BC concentration')\n",
    "plt.title('i=20, j=20, k=0')"
   ]
  }
 ],
 "metadata": {
  "kernelspec": {
   "display_name": "base",
   "language": "python",
   "name": "python3"
  },
  "language_info": {
   "codemirror_mode": {
    "name": "ipython",
    "version": 3
   },
   "file_extension": ".py",
   "mimetype": "text/x-python",
   "name": "python",
   "nbconvert_exporter": "python",
   "pygments_lexer": "ipython3",
   "version": "3.9.12"
  }
 },
 "nbformat": 4,
 "nbformat_minor": 2
}
