{
 "cells": [
  {
   "cell_type": "code",
   "execution_count": 1,
   "metadata": {},
   "outputs": [],
   "source": [
    "import netCDF4 as nc\n",
    "import numpy as np"
   ]
  },
  {
   "cell_type": "markdown",
   "metadata": {},
   "source": [
    "Grab a netcdf file near the center of the domain (remember that the ICs are for a column located at x = i and y = j where the naming convention is `ics_i_j.nc`)"
   ]
  },
  {
   "cell_type": "code",
   "execution_count": 5,
   "metadata": {},
   "outputs": [],
   "source": [
    "path = '/data/keeling/a/jcurtis2/c/wrf_partmc_new_repo/wrf_partmc/boundary_and_initial_conditions/ics/ics_new_001_001.nc'\n",
    "data = nc.Dataset(path)"
   ]
  },
  {
   "cell_type": "code",
   "execution_count": 22,
   "metadata": {},
   "outputs": [
    {
     "data": {
      "text/plain": [
       "<class 'netCDF4._netCDF4.Dataset'>\n",
       "root group (NETCDF4 data model, file format HDF5):\n",
       "    dimensions(sizes): n_aero_modes(3), n_aero_specs(20), nz(39)\n",
       "    variables(dimensions): int32 mode_type(n_aero_modes, nz), float64 char_radius(n_aero_modes, nz), float64 log10_std_dev_radius(n_aero_modes, nz), float64 num_conc(n_aero_modes, nz), float64 vol_frac(n_aero_specs, n_aero_modes, nz), float64 vol_frac_std(n_aero_specs, n_aero_modes, nz), int32 source(n_aero_modes, nz)\n",
       "    groups: "
      ]
     },
     "execution_count": 22,
     "metadata": {},
     "output_type": "execute_result"
    }
   ],
   "source": [
    "data"
   ]
  },
  {
   "cell_type": "code",
   "execution_count": 9,
   "metadata": {},
   "outputs": [
    {
     "data": {
      "text/plain": [
       "['mode_type',\n",
       " 'char_radius',\n",
       " 'log10_std_dev_radius',\n",
       " 'num_conc',\n",
       " 'vol_frac',\n",
       " 'vol_frac_std',\n",
       " 'source']"
      ]
     },
     "execution_count": 9,
     "metadata": {},
     "output_type": "execute_result"
    }
   ],
   "source": [
    "[variable for variable in data.variables.keys()]"
   ]
  },
  {
   "cell_type": "markdown",
   "metadata": {},
   "source": [
    "The CARES domain has dimensions 170x160x40 (x, y, z)."
   ]
  },
  {
   "cell_type": "code",
   "execution_count": 109,
   "metadata": {},
   "outputs": [
    {
     "data": {
      "text/plain": [
       "masked_array(\n",
       "  data=[[1, 1, 1, 1, 1, 1, 1, 1, 1, 1, 1, 1, 1, 1, 1, 1, 1, 1, 1, 1, 1,\n",
       "         1, 1, 1, 1, 1, 1, 1, 1, 1, 1, 1, 1, 1, 1, 1, 1, 1, 1],\n",
       "        [2, 2, 2, 2, 2, 2, 2, 2, 2, 2, 2, 2, 2, 2, 2, 2, 2, 2, 2, 2, 2,\n",
       "         2, 2, 2, 2, 2, 2, 2, 2, 2, 2, 2, 2, 2, 2, 2, 2, 2, 2],\n",
       "        [3, 3, 3, 3, 3, 3, 3, 3, 3, 3, 3, 3, 3, 3, 3, 3, 3, 3, 3, 3, 3,\n",
       "         3, 3, 3, 3, 3, 3, 3, 3, 3, 3, 3, 3, 3, 3, 3, 3, 3, 3]],\n",
       "  mask=False,\n",
       "  fill_value=999999,\n",
       "  dtype=int32)"
      ]
     },
     "execution_count": 109,
     "metadata": {},
     "output_type": "execute_result"
    }
   ],
   "source": [
    "data['source'][:]"
   ]
  },
  {
   "cell_type": "code",
   "execution_count": 30,
   "metadata": {},
   "outputs": [],
   "source": [
    "aero_species_list = ['SO4','NO3','Cl','NH4','MSA','ARO1','ARO2','ALK1','OLE1','API1',\n",
    "                'API2','LIM1','LIM2','CO3','Na','Ca','OIN','OC','BC','H2O']  "
   ]
  },
  {
   "cell_type": "code",
   "execution_count": 31,
   "metadata": {},
   "outputs": [],
   "source": [
    "urban_plume_aero_ics = {'aitken_mode': {'number_conc [m^-3]': 3.2e9,\n",
    "                                        'geom_mean_diam [m]': 0.2e-6,\n",
    "                                        'geom_std_dev': 1.45,\n",
    "                                        'mass_frac': {'SO4': 0.3636,'NO3': 0,\n",
    "                                                      'Cl': 0,'NH4': 0.1364,\n",
    "                                                      'MSA': 0,'ARO1': 0,\n",
    "                                                      'ARO2': 0, 'ALK1': 0,\n",
    "                                                      'OLE1': 0,'API1': 0,\n",
    "                                                      'API2': 0,'LIM1': 0,\n",
    "                                                      'LIM2': 0,'CO3': 0,\n",
    "                                                      'Na': 0,'Ca': 0,\n",
    "                                                      'OIN': 0,'OC': 0.5,\n",
    "                                                      'BC': 0,'H2O': 0}\n",
    "                                         },\n",
    "                        'accum_mode': {'number_conc [m^-3]': 2.9e9,\n",
    "                                        'geom_mean_diam [m]': 0.116e-6,\n",
    "                                        'geom_std_dev': 1.65,\n",
    "                                        'mass_frac': {'SO4': 0.3636,'NO3': 0,\n",
    "                                                      'Cl': 0,'NH4': 0.1364,\n",
    "                                                      'MSA': 0,'ARO1': 0,\n",
    "                                                      'ARO2': 0, 'ALK1': 0,\n",
    "                                                      'OLE1': 0,'API1': 0,\n",
    "                                                      'API2': 0,'LIM1': 0,\n",
    "                                                      'LIM2': 0,'CO3': 0,\n",
    "                                                      'Na': 0,'Ca': 0,\n",
    "                                                      'OIN': 0,'OC': 0.5,\n",
    "                                                      'BC': 0,'H2O': 0}\n",
    "                                         },\n",
    "                        }"
   ]
  },
  {
   "cell_type": "markdown",
   "metadata": {},
   "source": [
    "netcdf ics_new_001_001 {\n",
    "dimensions:\n",
    "        n_aero_modes = 3 ;\n",
    "        n_aero_specs = 20 ;\n",
    "        nz = 39 ;\n",
    "variables:\n",
    "        int mode_type(n_aero_modes, nz) ;\n",
    "        double char_radius(n_aero_modes, nz) ;\n",
    "        double log10_std_dev_radius(n_aero_modes, nz) ;\n",
    "        double num_conc(n_aero_modes, nz) ;\n",
    "        double vol_frac(n_aero_specs, n_aero_modes, nz) ;\n",
    "        double vol_frac_std(n_aero_specs, n_aero_modes, nz) ;\n",
    "        int source(n_aero_modes, nz) ;\n",
    "}"
   ]
  },
  {
   "cell_type": "code",
   "execution_count": 101,
   "metadata": {},
   "outputs": [],
   "source": [
    "mass_frac_array = np.zeros((n_aero_modes, n_aero_specs))\n",
    "for i, (mode, attributes) in enumerate(urban_plume_aero_ics.items()):\n",
    "    mass_fracs = attributes['mass_frac'] # could convert to list\n",
    "    mass_frac_list = list(mass_fracs.values())\n",
    "    mass_frac_array[i, :] = np.array(mass_frac_list)\n",
    "#mass_frac_array = np.repeat(mass_frac_array.reshape(n_aero_modes,n_aero_specs), repeats=n_levels, axis=1)\n"
   ]
  },
  {
   "cell_type": "code",
   "execution_count": 102,
   "metadata": {},
   "outputs": [
    {
     "data": {
      "text/plain": [
       "array([[0.3636, 0.    , 0.    , 0.1364, 0.    , 0.    , 0.    , 0.    ,\n",
       "        0.    , 0.    , 0.    , 0.    , 0.    , 0.    , 0.    , 0.    ,\n",
       "        0.    , 0.5   , 0.    , 0.    ],\n",
       "       [0.3636, 0.    , 0.    , 0.1364, 0.    , 0.    , 0.    , 0.    ,\n",
       "        0.    , 0.    , 0.    , 0.    , 0.    , 0.    , 0.    , 0.    ,\n",
       "        0.    , 0.5   , 0.    , 0.    ]])"
      ]
     },
     "execution_count": 102,
     "metadata": {},
     "output_type": "execute_result"
    }
   ],
   "source": [
    "mass_frac_array"
   ]
  },
  {
   "cell_type": "code",
   "execution_count": 133,
   "metadata": {},
   "outputs": [],
   "source": [
    "mass_frac_array = np.zeros((n_aero_specs, n_aero_modes))\n",
    "for i, (mode, attributes) in enumerate(urban_plume_aero_ics.items()):\n",
    "    mass_fracs = attributes['mass_frac'] # could convert to list\n",
    "    mass_frac_list = list(mass_fracs.values())\n",
    "    mass_frac_array[:, i] = np.array(mass_frac_list)\n",
    "vol_frac_array = np.zeros((n_aero_specs, n_aero_modes, n_levels))\n",
    "for i in range(n_levels):\n",
    "    vol_frac_array[:, :, i] = mass_frac_array\n",
    "vol_frac[:] = vol_frac_array"
   ]
  },
  {
   "cell_type": "code",
   "execution_count": 137,
   "metadata": {},
   "outputs": [
    {
     "ename": "ValueError",
     "evalue": "shape mismatch: objects cannot be broadcast to a single shape.  Mismatch is between arg 0 with shape (2, 20, 40) and arg 1 with shape (20, 2, 40).",
     "output_type": "error",
     "traceback": [
      "\u001b[0;31m---------------------------------------------------------------------------\u001b[0m",
      "\u001b[0;31mValueError\u001b[0m                                Traceback (most recent call last)",
      "\u001b[1;32m/data/keeling/a/sf20/b/wrf-partmc-spatial-het/WRFV3/test/em_les/notebooks/create_ic_files.ipynb Cell 14\u001b[0m line \u001b[0;36m<cell line: 1>\u001b[0;34m()\u001b[0m\n\u001b[0;32m----> <a href='vscode-notebook-cell://ssh-remote%2Bkeeling/data/keeling/a/sf20/b/wrf-partmc-spatial-het/WRFV3/test/em_les/notebooks/create_ic_files.ipynb#X36sdnNjb2RlLXJlbW90ZQ%3D%3D?line=0'>1</a>\u001b[0m vol_frac[:] \u001b[39m=\u001b[39m vol_frac_array\n",
      "File \u001b[0;32msrc/netCDF4/_netCDF4.pyx:4903\u001b[0m, in \u001b[0;36mnetCDF4._netCDF4.Variable.__setitem__\u001b[0;34m()\u001b[0m\n",
      "File \u001b[0;32m~/miniconda3/lib/python3.9/site-packages/netCDF4/utils.py:356\u001b[0m, in \u001b[0;36m_StartCountStride\u001b[0;34m(elem, shape, dimensions, grp, datashape, put, use_get_vars)\u001b[0m\n\u001b[1;32m    354\u001b[0m     fullslice \u001b[39m=\u001b[39m \u001b[39mFalse\u001b[39;00m\n\u001b[1;32m    355\u001b[0m \u001b[39mif\u001b[39;00m fullslice \u001b[39mand\u001b[39;00m datashape \u001b[39mand\u001b[39;00m put \u001b[39mand\u001b[39;00m \u001b[39mnot\u001b[39;00m hasunlim:\n\u001b[0;32m--> 356\u001b[0m     datashape \u001b[39m=\u001b[39m broadcasted_shape(shape, datashape)\n\u001b[1;32m    358\u001b[0m \u001b[39m# pad datashape with zeros for dimensions not being sliced (issue #906)\u001b[39;00m\n\u001b[1;32m    359\u001b[0m \u001b[39m# only used when data covers slice over subset of dimensions\u001b[39;00m\n\u001b[1;32m    360\u001b[0m \u001b[39mif\u001b[39;00m datashape \u001b[39mand\u001b[39;00m \u001b[39mlen\u001b[39m(datashape) \u001b[39m!=\u001b[39m \u001b[39mlen\u001b[39m(elem) \u001b[39mand\u001b[39;00m\\\n\u001b[1;32m    361\u001b[0m    \u001b[39mlen\u001b[39m(datashape) \u001b[39m==\u001b[39m \u001b[39msum\u001b[39m(\u001b[39m1\u001b[39m \u001b[39mfor\u001b[39;00m e \u001b[39min\u001b[39;00m elem \u001b[39mif\u001b[39;00m \u001b[39mtype\u001b[39m(e) \u001b[39m==\u001b[39m \u001b[39mslice\u001b[39m):\n",
      "File \u001b[0;32m~/miniconda3/lib/python3.9/site-packages/netCDF4/utils.py:964\u001b[0m, in \u001b[0;36mbroadcasted_shape\u001b[0;34m(shp1, shp2)\u001b[0m\n\u001b[1;32m    962\u001b[0m a \u001b[39m=\u001b[39m as_strided(x, shape\u001b[39m=\u001b[39mshp1, strides\u001b[39m=\u001b[39m[\u001b[39m0\u001b[39m] \u001b[39m*\u001b[39m \u001b[39mlen\u001b[39m(shp1))\n\u001b[1;32m    963\u001b[0m b \u001b[39m=\u001b[39m as_strided(x, shape\u001b[39m=\u001b[39mshp2, strides\u001b[39m=\u001b[39m[\u001b[39m0\u001b[39m] \u001b[39m*\u001b[39m \u001b[39mlen\u001b[39m(shp2))\n\u001b[0;32m--> 964\u001b[0m \u001b[39mreturn\u001b[39;00m np\u001b[39m.\u001b[39;49mbroadcast(a, b)\u001b[39m.\u001b[39mshape\n",
      "\u001b[0;31mValueError\u001b[0m: shape mismatch: objects cannot be broadcast to a single shape.  Mismatch is between arg 0 with shape (2, 20, 40) and arg 1 with shape (20, 2, 40)."
     ]
    }
   ],
   "source": [
    "vol_frac[:] = vol_frac_array"
   ]
  },
  {
   "cell_type": "code",
   "execution_count": 127,
   "metadata": {},
   "outputs": [
    {
     "data": {
      "text/plain": [
       "array([[0.3636, 0.3636],\n",
       "       [0.    , 0.    ],\n",
       "       [0.    , 0.    ],\n",
       "       [0.1364, 0.1364],\n",
       "       [0.    , 0.    ],\n",
       "       [0.    , 0.    ],\n",
       "       [0.    , 0.    ],\n",
       "       [0.    , 0.    ],\n",
       "       [0.    , 0.    ],\n",
       "       [0.    , 0.    ],\n",
       "       [0.    , 0.    ],\n",
       "       [0.    , 0.    ],\n",
       "       [0.    , 0.    ],\n",
       "       [0.    , 0.    ],\n",
       "       [0.    , 0.    ],\n",
       "       [0.    , 0.    ],\n",
       "       [0.    , 0.    ],\n",
       "       [0.5   , 0.5   ],\n",
       "       [0.    , 0.    ],\n",
       "       [0.    , 0.    ]])"
      ]
     },
     "execution_count": 127,
     "metadata": {},
     "output_type": "execute_result"
    }
   ],
   "source": [
    "mass_frac_array"
   ]
  },
  {
   "cell_type": "code",
   "execution_count": 107,
   "metadata": {},
   "outputs": [
    {
     "data": {
      "text/plain": [
       "(2, 20, 40)"
      ]
     },
     "execution_count": 107,
     "metadata": {},
     "output_type": "execute_result"
    }
   ],
   "source": [
    "test.shape"
   ]
  },
  {
   "cell_type": "code",
   "execution_count": 92,
   "metadata": {},
   "outputs": [],
   "source": [
    "test = np.resize(mass_frac_array, (2, 20, 30))"
   ]
  },
  {
   "cell_type": "code",
   "execution_count": 108,
   "metadata": {},
   "outputs": [
    {
     "data": {
      "text/plain": [
       "array([[1, 1, 1, 1, 1, 1, 1, 1, 1, 1, 1, 1, 1, 1, 1, 1, 1, 1, 1, 1, 1, 1,\n",
       "        1, 1, 1, 1, 1, 1, 1, 1, 1, 1, 1, 1, 1, 1, 1, 1, 1, 1],\n",
       "       [2, 2, 2, 2, 2, 2, 2, 2, 2, 2, 2, 2, 2, 2, 2, 2, 2, 2, 2, 2, 2, 2,\n",
       "        2, 2, 2, 2, 2, 2, 2, 2, 2, 2, 2, 2, 2, 2, 2, 2, 2, 2]])"
      ]
     },
     "execution_count": 108,
     "metadata": {},
     "output_type": "execute_result"
    }
   ],
   "source": [
    "np.repeat(np.arange(1, 3, 1).reshape(n_aero_modes,1), repeats=n_levels, axis=1)"
   ]
  },
  {
   "cell_type": "code",
   "execution_count": 138,
   "metadata": {},
   "outputs": [],
   "source": [
    "file_path = '/data/keeling/a/sf20/b/wrf-partmc-spatial-het/WRFV3/test/em_les/notebooks/test.nc'\n",
    "ncfile = nc.Dataset(file_path, 'w')\n",
    "\n",
    "n_levels = 40\n",
    "n_aero_modes = 2\n",
    "n_aero_specs = 20\n",
    "\n",
    "#i_level = str(i + 1).zfill(3)\n",
    "#grp = ncfile.createGroup(f'level_{i_level}')\n",
    "\n",
    "modes_dim = ncfile.createDimension('n_aero_modes', n_aero_modes)\n",
    "aero_specs_dim = ncfile.createDimension('n_aero_specs', n_aero_specs)\n",
    "z_dim = ncfile.createDimension('nz', n_levels)\n",
    "\n",
    "# TODO: not sure what this is for...Jeff has this set to 1 for all modes, levels\n",
    "mode_type = ncfile.createVariable('mode_type', 'f8', ('n_aero_modes', 'nz'))\n",
    "mode_type[:] = 1\n",
    "\n",
    "# float64 char_radius(n_modes)\n",
    "char_radius = ncfile.createVariable('char_radius', 'f8', ('n_aero_modes', 'nz'))\n",
    "char_radius.unit = 'm'\n",
    "char_radius.long_name = \"characteristic_radius\"\n",
    "char_radius.standard_name = \"characteristic_radius\"\n",
    "char_radius.description = \"Characteristic radius, with meaning dependent on mode type\"\n",
    "char_radii = []\n",
    "for mode, attributes in urban_plume_aero_ics.items():\n",
    "    geom_mean_diam = attributes['geom_mean_diam [m]']\n",
    "    geom_mean_radius = 0.5*geom_mean_diam\n",
    "    char_radii.append(geom_mean_radius)\n",
    "char_radii = np.repeat(np.array(char_radii).reshape(n_aero_modes,1), repeats=n_levels, axis=1)\n",
    "char_radius[:, :] = char_radii\n",
    "\n",
    "# float64 log10_std_dev_radius(n_modes)\n",
    "log10_std_dev_radius = ncfile.createVariable('log10_std_dev_radius', 'f8', ('n_aero_modes', 'nz'))\n",
    "log10_std_dev_radius.unit = 'm'\n",
    "log10_std_dev_radius.long_name = \"log10_std_dev_radius\"\n",
    "log10_std_dev_radius.standard_name = \"log10_std_dev_radius\"\n",
    "log10_std_dev_radius.description = \"Log base 10 of geometric standard deviation of radius, (m).\"\n",
    "log10_std_dev_radii = []\n",
    "for mode, attributes in urban_plume_aero_ics.items():\n",
    "    std_dev = attributes['geom_std_dev']\n",
    "    log10_std_dev = np.log10(std_dev)\n",
    "    log10_std_dev_radii.append(log10_std_dev)\n",
    "log10_std_dev_radii = np.repeat(np.array(log10_std_dev_radii).reshape(n_aero_modes,1), repeats=n_levels, axis=1)\n",
    "log10_std_dev_radius[:] = log10_std_dev_radii\n",
    "\n",
    "# float64 num_conc(n_modes)\n",
    "num_conc = ncfile.createVariable('num_conc', 'f8', ('n_aero_modes', 'nz'))\n",
    "num_conc.unit = '# m^{-3}'\n",
    "num_conc.long_name = \"total number concentration\"\n",
    "num_conc.standard_name = \"total number concentration\"\n",
    "num_conc.description = \"Total number concentration of mode (#/m^3).\"\n",
    "num_concentrations = []\n",
    "for mode, attributes in urban_plume_aero_ics.items():\n",
    "    num_concentration = attributes['number_conc [m^-3]']\n",
    "    num_concentrations.append(num_concentration)\n",
    "num_concentrations = np.repeat(np.array(num_concentrations).reshape(n_aero_modes,1), repeats=n_levels, axis=1)\n",
    "num_conc[:] = num_concentrations\n",
    "\n",
    "# float64 vol_frac(n_modes, n_aero_specs)\n",
    "vol_frac = ncfile.createVariable('vol_frac', 'f8', ('n_aero_specs', 'n_aero_modes', 'nz'))\n",
    "vol_frac.unit = '(1)'\n",
    "vol_frac.long_name = \"species fractions\"\n",
    "vol_frac.standard_name = \"species_fractions\"\n",
    "vol_frac.description = \"Species fractions by volume [length \\c aero_data%%n_spec].\"\n",
    "mass_frac_array = np.zeros((n_aero_specs, n_aero_modes))\n",
    "for i, (mode, attributes) in enumerate(urban_plume_aero_ics.items()):\n",
    "    mass_fracs = attributes['mass_frac'] # could convert to list\n",
    "    mass_frac_list = list(mass_fracs.values())\n",
    "    mass_frac_array[:, i] = np.array(mass_frac_list)\n",
    "vol_frac_array = np.zeros((n_aero_specs, n_aero_modes, n_levels))\n",
    "for i in range(n_levels):\n",
    "    vol_frac_array[:, :, i] = mass_frac_array\n",
    "vol_frac[:] = vol_frac_array\n",
    "\n",
    "vol_frac_std = ncfile.createVariable('vol_frac_std', 'f8', ('n_aero_specs', 'n_aero_modes', 'nz'))\n",
    "vol_frac_std.unit = '(1)'\n",
    "vol_frac_std.long_name = \"species fractions\"\n",
    "vol_frac_std.standard_name = \"species_fractions\"\n",
    "vol_frac_std.description = \"Species fractions by volume [length \\c aero_data%%n_spec].\"\n",
    "#mass_frac_array = np.zeros((n_aero_modes, n_aero_specs))\n",
    "#for i, (mode, attributes) in enumerate(urban_plume_aero_ics.items()):\n",
    "#    mass_fracs = attributes['mass_frac'] # could convert to list\n",
    "#    mass_frac_list = list(mass_fracs.values())\n",
    "#    mass_frac_array[i, :] = np.array(mass_frac_list)\n",
    "vol_frac_std[:] = 0 # Jeff seems to have all of these set to zero\n",
    "\n",
    "# int32 source(n_modes) \n",
    "# NOTE: this is source_id in the emission files\n",
    "source = ncfile.createVariable('source', 'i', ('n_aero_modes', 'nz'))\n",
    "source.unit = '(1)'\n",
    "source.long_name = \"Source number.\"\n",
    "source.standard_name = \"Source number\"\n",
    "source.description = \"Source number.\"\n",
    "sources = np.repeat(np.arange(1, 3, 1).reshape(n_aero_modes,1), repeats=n_levels, axis=1)\n",
    "source[:] = sources\n",
    "\n",
    "\n",
    "\n"
   ]
  },
  {
   "cell_type": "code",
   "execution_count": 139,
   "metadata": {},
   "outputs": [],
   "source": [
    "ncfile_data = nc.Dataset('test.nc')"
   ]
  },
  {
   "cell_type": "code",
   "execution_count": 140,
   "metadata": {},
   "outputs": [
    {
     "data": {
      "text/plain": [
       "<class 'netCDF4._netCDF4.Dataset'>\n",
       "root group (NETCDF4 data model, file format HDF5):\n",
       "    dimensions(sizes): n_aero_modes(2), n_aero_specs(20), nz(40)\n",
       "    variables(dimensions): float64 mode_type(n_aero_modes, nz), float64 char_radius(n_aero_modes, nz), float64 log10_std_dev_radius(n_aero_modes, nz), float64 num_conc(n_aero_modes, nz), float64 vol_frac(n_aero_specs, n_aero_modes, nz), float64 vol_frac_std(n_aero_specs, n_aero_modes, nz), int32 source(n_aero_modes, nz)\n",
       "    groups: "
      ]
     },
     "execution_count": 140,
     "metadata": {},
     "output_type": "execute_result"
    }
   ],
   "source": [
    "ncfile"
   ]
  },
  {
   "cell_type": "code",
   "execution_count": 114,
   "metadata": {},
   "outputs": [
    {
     "data": {
      "text/plain": [
       "masked_array(\n",
       "  data=[[1., 1., 1., 1., 1., 1., 1., 1., 1., 1., 1., 1., 1., 1., 1., 1.,\n",
       "         1., 1., 1., 1., 1., 1., 1., 1., 1., 1., 1., 1., 1., 1., 1., 1.,\n",
       "         1., 1., 1., 1., 1., 1., 1., 1.],\n",
       "        [1., 1., 1., 1., 1., 1., 1., 1., 1., 1., 1., 1., 1., 1., 1., 1.,\n",
       "         1., 1., 1., 1., 1., 1., 1., 1., 1., 1., 1., 1., 1., 1., 1., 1.,\n",
       "         1., 1., 1., 1., 1., 1., 1., 1.]],\n",
       "  mask=False,\n",
       "  fill_value=1e+20)"
      ]
     },
     "execution_count": 114,
     "metadata": {},
     "output_type": "execute_result"
    }
   ],
   "source": [
    "ncfile['mode_type'][:]"
   ]
  },
  {
   "cell_type": "code",
   "execution_count": 116,
   "metadata": {},
   "outputs": [
    {
     "name": "stdout",
     "output_type": "stream",
     "text": [
      "mode_type\n",
      "----------------------------\n",
      "Mine\n",
      "[[1. 1. 1. 1. 1. 1. 1. 1. 1. 1. 1. 1. 1. 1. 1. 1. 1. 1. 1. 1. 1. 1. 1. 1.\n",
      "  1. 1. 1. 1. 1. 1. 1. 1. 1. 1. 1. 1. 1. 1. 1. 1.]\n",
      " [1. 1. 1. 1. 1. 1. 1. 1. 1. 1. 1. 1. 1. 1. 1. 1. 1. 1. 1. 1. 1. 1. 1. 1.\n",
      "  1. 1. 1. 1. 1. 1. 1. 1. 1. 1. 1. 1. 1. 1. 1. 1.]]\n",
      "\n",
      "Jeff\n",
      "[[1 1 1 1 1 1 1 1 1 1 1 1 1 1 1 1 1 1 1 1 1 1 1 1 1 1 1 1 1 1 1 1 1 1 1 1\n",
      "  1 1 1]\n",
      " [1 1 1 1 1 1 1 1 1 1 1 1 1 1 1 1 1 1 1 1 1 1 1 1 1 1 1 1 1 1 1 1 1 1 1 1\n",
      "  1 1 1]\n",
      " [1 1 1 1 1 1 1 1 1 1 1 1 1 1 1 1 1 1 1 1 1 1 1 1 1 1 1 1 1 1 1 1 1 1 1 1\n",
      "  1 1 1]]\n",
      "\n",
      "char_radius\n",
      "----------------------------\n",
      "Mine\n",
      "[[1.0e-07 1.0e-07 1.0e-07 1.0e-07 1.0e-07 1.0e-07 1.0e-07 1.0e-07 1.0e-07\n",
      "  1.0e-07 1.0e-07 1.0e-07 1.0e-07 1.0e-07 1.0e-07 1.0e-07 1.0e-07 1.0e-07\n",
      "  1.0e-07 1.0e-07 1.0e-07 1.0e-07 1.0e-07 1.0e-07 1.0e-07 1.0e-07 1.0e-07\n",
      "  1.0e-07 1.0e-07 1.0e-07 1.0e-07 1.0e-07 1.0e-07 1.0e-07 1.0e-07 1.0e-07\n",
      "  1.0e-07 1.0e-07 1.0e-07 1.0e-07]\n",
      " [5.8e-08 5.8e-08 5.8e-08 5.8e-08 5.8e-08 5.8e-08 5.8e-08 5.8e-08 5.8e-08\n",
      "  5.8e-08 5.8e-08 5.8e-08 5.8e-08 5.8e-08 5.8e-08 5.8e-08 5.8e-08 5.8e-08\n",
      "  5.8e-08 5.8e-08 5.8e-08 5.8e-08 5.8e-08 5.8e-08 5.8e-08 5.8e-08 5.8e-08\n",
      "  5.8e-08 5.8e-08 5.8e-08 5.8e-08 5.8e-08 5.8e-08 5.8e-08 5.8e-08 5.8e-08\n",
      "  5.8e-08 5.8e-08 5.8e-08 5.8e-08]]\n",
      "\n",
      "Jeff\n",
      "[[1.3e-08 1.3e-08 1.3e-08 1.3e-08 1.3e-08 1.3e-08 1.3e-08 1.3e-08 1.3e-08\n",
      "  1.3e-08 1.3e-08 1.3e-08 1.3e-08 1.3e-08 1.3e-08 1.3e-08 1.3e-08 1.3e-08\n",
      "  1.3e-08 1.3e-08 1.3e-08 1.3e-08 1.3e-08 1.3e-08 1.3e-08 1.3e-08 1.3e-08\n",
      "  1.3e-08 1.3e-08 1.3e-08 1.3e-08 1.3e-08 1.3e-08 1.3e-08 1.3e-08 1.3e-08\n",
      "  1.3e-08 1.3e-08 1.3e-08]\n",
      " [5.5e-08 5.5e-08 5.5e-08 5.5e-08 5.5e-08 5.5e-08 5.5e-08 5.5e-08 5.5e-08\n",
      "  5.5e-08 5.5e-08 5.5e-08 5.5e-08 5.5e-08 5.5e-08 5.5e-08 5.5e-08 5.5e-08\n",
      "  5.5e-08 5.5e-08 5.5e-08 5.5e-08 5.5e-08 5.5e-08 5.5e-08 5.5e-08 5.5e-08\n",
      "  5.5e-08 5.5e-08 5.5e-08 5.5e-08 5.5e-08 5.5e-08 5.5e-08 5.5e-08 5.5e-08\n",
      "  5.5e-08 5.5e-08 5.5e-08]\n",
      " [1.0e-06 1.0e-06 1.0e-06 1.0e-06 1.0e-06 1.0e-06 1.0e-06 1.0e-06 1.0e-06\n",
      "  1.0e-06 1.0e-06 1.0e-06 1.0e-06 1.0e-06 1.0e-06 1.0e-06 1.0e-06 1.0e-06\n",
      "  1.0e-06 1.0e-06 1.0e-06 1.0e-06 1.0e-06 1.0e-06 1.0e-06 1.0e-06 1.0e-06\n",
      "  1.0e-06 1.0e-06 1.0e-06 1.0e-06 1.0e-06 1.0e-06 1.0e-06 1.0e-06 1.0e-06\n",
      "  1.0e-06 1.0e-06 1.0e-06]]\n",
      "\n",
      "log10_std_dev_radius\n",
      "----------------------------\n",
      "Mine\n",
      "[[0.161368   0.161368   0.161368   0.161368   0.161368   0.161368\n",
      "  0.161368   0.161368   0.161368   0.161368   0.161368   0.161368\n",
      "  0.161368   0.161368   0.161368   0.161368   0.161368   0.161368\n",
      "  0.161368   0.161368   0.161368   0.161368   0.161368   0.161368\n",
      "  0.161368   0.161368   0.161368   0.161368   0.161368   0.161368\n",
      "  0.161368   0.161368   0.161368   0.161368   0.161368   0.161368\n",
      "  0.161368   0.161368   0.161368   0.161368  ]\n",
      " [0.21748394 0.21748394 0.21748394 0.21748394 0.21748394 0.21748394\n",
      "  0.21748394 0.21748394 0.21748394 0.21748394 0.21748394 0.21748394\n",
      "  0.21748394 0.21748394 0.21748394 0.21748394 0.21748394 0.21748394\n",
      "  0.21748394 0.21748394 0.21748394 0.21748394 0.21748394 0.21748394\n",
      "  0.21748394 0.21748394 0.21748394 0.21748394 0.21748394 0.21748394\n",
      "  0.21748394 0.21748394 0.21748394 0.21748394 0.21748394 0.21748394\n",
      "  0.21748394 0.21748394 0.21748394 0.21748394]]\n",
      "\n",
      "Jeff\n",
      "[[0.20411998 0.20411998 0.20411998 0.20411998 0.20411998 0.20411998\n",
      "  0.20411998 0.20411998 0.20411998 0.20411998 0.20411998 0.20411998\n",
      "  0.20411998 0.20411998 0.20411998 0.20411998 0.20411998 0.20411998\n",
      "  0.20411998 0.20411998 0.20411998 0.20411998 0.20411998 0.20411998\n",
      "  0.20411998 0.20411998 0.20411998 0.20411998 0.20411998 0.20411998\n",
      "  0.20411998 0.20411998 0.20411998 0.20411998 0.20411998 0.20411998\n",
      "  0.20411998 0.20411998 0.20411998]\n",
      " [0.25527251 0.25527251 0.25527251 0.25527251 0.25527251 0.25527251\n",
      "  0.25527251 0.25527251 0.25527251 0.25527251 0.25527251 0.25527251\n",
      "  0.25527251 0.25527251 0.25527251 0.25527251 0.25527251 0.25527251\n",
      "  0.25527251 0.25527251 0.25527251 0.25527251 0.25527251 0.25527251\n",
      "  0.25527251 0.25527251 0.25527251 0.25527251 0.25527251 0.25527251\n",
      "  0.25527251 0.25527251 0.25527251 0.25527251 0.25527251 0.25527251\n",
      "  0.25527251 0.25527251 0.25527251]\n",
      " [0.25527251 0.25527251 0.25527251 0.25527251 0.25527251 0.25527251\n",
      "  0.25527251 0.25527251 0.25527251 0.25527251 0.25527251 0.25527251\n",
      "  0.25527251 0.25527251 0.25527251 0.25527251 0.25527251 0.25527251\n",
      "  0.25527251 0.25527251 0.25527251 0.25527251 0.25527251 0.25527251\n",
      "  0.25527251 0.25527251 0.25527251 0.25527251 0.25527251 0.25527251\n",
      "  0.25527251 0.25527251 0.25527251 0.25527251 0.25527251 0.25527251\n",
      "  0.25527251 0.25527251 0.25527251]]\n",
      "\n",
      "num_conc\n",
      "----------------------------\n",
      "Mine\n",
      "[[3.2e+09 3.2e+09 3.2e+09 3.2e+09 3.2e+09 3.2e+09 3.2e+09 3.2e+09 3.2e+09\n",
      "  3.2e+09 3.2e+09 3.2e+09 3.2e+09 3.2e+09 3.2e+09 3.2e+09 3.2e+09 3.2e+09\n",
      "  3.2e+09 3.2e+09 3.2e+09 3.2e+09 3.2e+09 3.2e+09 3.2e+09 3.2e+09 3.2e+09\n",
      "  3.2e+09 3.2e+09 3.2e+09 3.2e+09 3.2e+09 3.2e+09 3.2e+09 3.2e+09 3.2e+09\n",
      "  3.2e+09 3.2e+09 3.2e+09 3.2e+09]\n",
      " [2.9e+09 2.9e+09 2.9e+09 2.9e+09 2.9e+09 2.9e+09 2.9e+09 2.9e+09 2.9e+09\n",
      "  2.9e+09 2.9e+09 2.9e+09 2.9e+09 2.9e+09 2.9e+09 2.9e+09 2.9e+09 2.9e+09\n",
      "  2.9e+09 2.9e+09 2.9e+09 2.9e+09 2.9e+09 2.9e+09 2.9e+09 2.9e+09 2.9e+09\n",
      "  2.9e+09 2.9e+09 2.9e+09 2.9e+09 2.9e+09 2.9e+09 2.9e+09 2.9e+09 2.9e+09\n",
      "  2.9e+09 2.9e+09 2.9e+09 2.9e+09]]\n",
      "\n",
      "Jeff\n",
      "[[1.06307966e+08 1.06338118e+08 1.06505359e+08 1.07642892e+08\n",
      "  1.02573690e+08 4.85706651e+07 4.19444078e+07 4.34811014e+07\n",
      "  4.09759872e+07 3.92426396e+07 3.67706509e+07 3.20275930e+07\n",
      "  2.64002996e+07 2.38492693e+07 2.55104859e+07 3.11319876e+07\n",
      "  3.46519309e+07 3.50524366e+07 3.28659116e+07 2.91497603e+07\n",
      "  2.60014924e+07 2.50980038e+07 2.45896815e+07 2.47382517e+07\n",
      "  2.80693643e+07 3.72453626e+07 5.25873841e+07 6.82978316e+07\n",
      "  8.12195697e+07 8.89708018e+07 9.86834538e+07 1.04335399e+08\n",
      "  1.02643194e+08 9.76792025e+07 9.31830824e+07 9.01759153e+07\n",
      "  8.98539582e+07 9.02324462e+07 9.12082838e+07]\n",
      " [1.59766324e+08 1.59792658e+08 1.59938743e+08 1.61479632e+08\n",
      "  1.15375773e+08 6.03207164e+07 5.30556206e+07 5.55461178e+07\n",
      "  5.70573940e+07 5.88790336e+07 5.85701474e+07 5.23581525e+07\n",
      "  4.63867289e+07 4.68404117e+07 5.20583898e+07 6.11635820e+07\n",
      "  6.67127117e+07 6.71709760e+07 6.36936267e+07 5.71826664e+07\n",
      "  5.08212450e+07 4.78195880e+07 4.58529601e+07 4.48430752e+07\n",
      "  4.81852234e+07 5.76974406e+07 7.37186538e+07 8.34159864e+07\n",
      "  8.77871153e+07 8.40960549e+07 7.78452531e+07 7.25903886e+07\n",
      "  6.96614030e+07 6.57658904e+07 6.34114323e+07 6.37490091e+07\n",
      "  6.50023743e+07 6.64409252e+07 6.79918895e+07]\n",
      " [3.01590897e+04 3.01694833e+04 3.02271369e+04 3.09698575e+04\n",
      "  2.19331141e+04 1.09300998e+04 7.99694912e+03 5.94596065e+03\n",
      "  4.70491501e+03 4.00645865e+03 3.91985470e+03 3.96606734e+03\n",
      "  4.60658563e+03 5.58165716e+03 6.71969803e+03 7.91034389e+03\n",
      "  8.54596686e+03 8.52156241e+03 8.01265407e+03 7.13278961e+03\n",
      "  6.27382899e+03 5.80674193e+03 5.52647458e+03 5.36447922e+03\n",
      "  5.69533401e+03 6.44426444e+03 7.63428491e+03 7.84820850e+03\n",
      "  7.54036174e+03 6.52836935e+03 5.10116081e+03 4.12325398e+03\n",
      "  4.00796674e+03 4.09420386e+03 4.29936894e+03 4.65000925e+03\n",
      "  5.00093699e+03 5.30101746e+03 5.51519240e+03]]\n",
      "\n",
      "vol_frac\n",
      "----------------------------\n",
      "Mine\n",
      "[[[0.3636 0.3636 0.3636 ... 0.3636 0.3636 0.3636]\n",
      "  [0.     0.     0.     ... 0.     0.     0.    ]\n",
      "  [0.     0.     0.     ... 0.     0.     0.    ]\n",
      "  ...\n",
      "  [0.5    0.5    0.5    ... 0.5    0.5    0.5   ]\n",
      "  [0.     0.     0.     ... 0.     0.     0.    ]\n",
      "  [0.     0.     0.     ... 0.     0.     0.    ]]\n",
      "\n",
      " [[0.3636 0.3636 0.3636 ... 0.3636 0.3636 0.3636]\n",
      "  [0.     0.     0.     ... 0.     0.     0.    ]\n",
      "  [0.     0.     0.     ... 0.     0.     0.    ]\n",
      "  ...\n",
      "  [0.5    0.5    0.5    ... 0.5    0.5    0.5   ]\n",
      "  [0.     0.     0.     ... 0.     0.     0.    ]\n",
      "  [0.     0.     0.     ... 0.     0.     0.    ]]]\n",
      "\n",
      "Jeff\n",
      "[[[5.19721317e-16 5.19900416e-16 5.20893863e-16 ... 8.61794300e-17\n",
      "   9.13506106e-17 9.50414276e-17]\n",
      "  [2.66657515e-13 2.66749411e-13 2.67259180e-13 ... 4.42167618e-14\n",
      "   4.68699793e-14 4.87636589e-14]\n",
      "  [4.99213380e-13 4.99385421e-13 5.00339741e-13 ... 8.27788463e-14\n",
      "   8.77459785e-14 9.12911451e-14]]\n",
      "\n",
      " [[0.00000000e+00 0.00000000e+00 0.00000000e+00 ... 0.00000000e+00\n",
      "   0.00000000e+00 0.00000000e+00]\n",
      "  [0.00000000e+00 0.00000000e+00 0.00000000e+00 ... 0.00000000e+00\n",
      "   0.00000000e+00 0.00000000e+00]\n",
      "  [0.00000000e+00 0.00000000e+00 0.00000000e+00 ... 0.00000000e+00\n",
      "   0.00000000e+00 0.00000000e+00]]\n",
      "\n",
      " [[0.00000000e+00 0.00000000e+00 0.00000000e+00 ... 0.00000000e+00\n",
      "   0.00000000e+00 0.00000000e+00]\n",
      "  [0.00000000e+00 0.00000000e+00 0.00000000e+00 ... 0.00000000e+00\n",
      "   0.00000000e+00 0.00000000e+00]\n",
      "  [0.00000000e+00 0.00000000e+00 0.00000000e+00 ... 0.00000000e+00\n",
      "   0.00000000e+00 0.00000000e+00]]\n",
      "\n",
      " ...\n",
      "\n",
      " [[0.00000000e+00 0.00000000e+00 0.00000000e+00 ... 0.00000000e+00\n",
      "   0.00000000e+00 0.00000000e+00]\n",
      "  [1.03430077e-13 1.03390440e-13 1.03170551e-13 ... 6.60008863e-14\n",
      "   6.69498295e-14 6.85675964e-14]\n",
      "  [0.00000000e+00 0.00000000e+00 0.00000000e+00 ... 0.00000000e+00\n",
      "   0.00000000e+00 0.00000000e+00]]\n",
      "\n",
      " [[0.00000000e+00 0.00000000e+00 0.00000000e+00 ... 0.00000000e+00\n",
      "   0.00000000e+00 0.00000000e+00]\n",
      "  [2.35621982e-14 2.35572764e-14 2.35299722e-14 ... 1.04342160e-14\n",
      "   1.09243415e-14 1.13628695e-14]\n",
      "  [0.00000000e+00 0.00000000e+00 0.00000000e+00 ... 0.00000000e+00\n",
      "   0.00000000e+00 0.00000000e+00]]\n",
      "\n",
      " [[0.00000000e+00 0.00000000e+00 0.00000000e+00 ... 0.00000000e+00\n",
      "   0.00000000e+00 0.00000000e+00]\n",
      "  [0.00000000e+00 0.00000000e+00 0.00000000e+00 ... 0.00000000e+00\n",
      "   0.00000000e+00 0.00000000e+00]\n",
      "  [0.00000000e+00 0.00000000e+00 0.00000000e+00 ... 0.00000000e+00\n",
      "   0.00000000e+00 0.00000000e+00]]]\n",
      "\n",
      "vol_frac_std\n",
      "----------------------------\n",
      "Mine\n",
      "[[[0. 0. 0. ... 0. 0. 0.]\n",
      "  [0. 0. 0. ... 0. 0. 0.]\n",
      "  [0. 0. 0. ... 0. 0. 0.]\n",
      "  ...\n",
      "  [0. 0. 0. ... 0. 0. 0.]\n",
      "  [0. 0. 0. ... 0. 0. 0.]\n",
      "  [0. 0. 0. ... 0. 0. 0.]]\n",
      "\n",
      " [[0. 0. 0. ... 0. 0. 0.]\n",
      "  [0. 0. 0. ... 0. 0. 0.]\n",
      "  [0. 0. 0. ... 0. 0. 0.]\n",
      "  ...\n",
      "  [0. 0. 0. ... 0. 0. 0.]\n",
      "  [0. 0. 0. ... 0. 0. 0.]\n",
      "  [0. 0. 0. ... 0. 0. 0.]]]\n",
      "\n",
      "Jeff\n",
      "[[[0. 0. 0. ... 0. 0. 0.]\n",
      "  [0. 0. 0. ... 0. 0. 0.]\n",
      "  [0. 0. 0. ... 0. 0. 0.]]\n",
      "\n",
      " [[0. 0. 0. ... 0. 0. 0.]\n",
      "  [0. 0. 0. ... 0. 0. 0.]\n",
      "  [0. 0. 0. ... 0. 0. 0.]]\n",
      "\n",
      " [[0. 0. 0. ... 0. 0. 0.]\n",
      "  [0. 0. 0. ... 0. 0. 0.]\n",
      "  [0. 0. 0. ... 0. 0. 0.]]\n",
      "\n",
      " ...\n",
      "\n",
      " [[0. 0. 0. ... 0. 0. 0.]\n",
      "  [0. 0. 0. ... 0. 0. 0.]\n",
      "  [0. 0. 0. ... 0. 0. 0.]]\n",
      "\n",
      " [[0. 0. 0. ... 0. 0. 0.]\n",
      "  [0. 0. 0. ... 0. 0. 0.]\n",
      "  [0. 0. 0. ... 0. 0. 0.]]\n",
      "\n",
      " [[0. 0. 0. ... 0. 0. 0.]\n",
      "  [0. 0. 0. ... 0. 0. 0.]\n",
      "  [0. 0. 0. ... 0. 0. 0.]]]\n",
      "\n",
      "source\n",
      "----------------------------\n",
      "Mine\n",
      "[[1 1 1 1 1 1 1 1 1 1 1 1 1 1 1 1 1 1 1 1 1 1 1 1 1 1 1 1 1 1 1 1 1 1 1 1\n",
      "  1 1 1 1]\n",
      " [2 2 2 2 2 2 2 2 2 2 2 2 2 2 2 2 2 2 2 2 2 2 2 2 2 2 2 2 2 2 2 2 2 2 2 2\n",
      "  2 2 2 2]]\n",
      "\n",
      "Jeff\n",
      "[[1 1 1 1 1 1 1 1 1 1 1 1 1 1 1 1 1 1 1 1 1 1 1 1 1 1 1 1 1 1 1 1 1 1 1 1\n",
      "  1 1 1]\n",
      " [2 2 2 2 2 2 2 2 2 2 2 2 2 2 2 2 2 2 2 2 2 2 2 2 2 2 2 2 2 2 2 2 2 2 2 2\n",
      "  2 2 2]\n",
      " [3 3 3 3 3 3 3 3 3 3 3 3 3 3 3 3 3 3 3 3 3 3 3 3 3 3 3 3 3 3 3 3 3 3 3 3\n",
      "  3 3 3]]\n",
      "\n"
     ]
    }
   ],
   "source": [
    "for variable in ncfile.variables.keys():\n",
    "    print(variable)\n",
    "    print('----------------------------')\n",
    "    print('Mine')\n",
    "    print(ncfile[variable][:])\n",
    "    print('')\n",
    "    print('Jeff')\n",
    "    print(data[variable][:])\n",
    "    print('')"
   ]
  },
  {
   "cell_type": "code",
   "execution_count": 141,
   "metadata": {},
   "outputs": [
    {
     "name": "stdout",
     "output_type": "stream",
     "text": [
      "mode_type\n",
      "----------------------------\n",
      "Mine\n",
      "(2, 40)\n",
      "\n",
      "Jeff\n",
      "(3, 39)\n",
      "\n",
      "char_radius\n",
      "----------------------------\n",
      "Mine\n",
      "(2, 40)\n",
      "\n",
      "Jeff\n",
      "(3, 39)\n",
      "\n",
      "log10_std_dev_radius\n",
      "----------------------------\n",
      "Mine\n",
      "(2, 40)\n",
      "\n",
      "Jeff\n",
      "(3, 39)\n",
      "\n",
      "num_conc\n",
      "----------------------------\n",
      "Mine\n",
      "(2, 40)\n",
      "\n",
      "Jeff\n",
      "(3, 39)\n",
      "\n",
      "vol_frac\n",
      "----------------------------\n",
      "Mine\n",
      "(20, 2, 40)\n",
      "\n",
      "Jeff\n",
      "(20, 3, 39)\n",
      "\n",
      "vol_frac_std\n",
      "----------------------------\n",
      "Mine\n",
      "(20, 2, 40)\n",
      "\n",
      "Jeff\n",
      "(20, 3, 39)\n",
      "\n",
      "source\n",
      "----------------------------\n",
      "Mine\n",
      "(2, 40)\n",
      "\n",
      "Jeff\n",
      "(3, 39)\n",
      "\n"
     ]
    }
   ],
   "source": [
    "for variable in ncfile.variables.keys():\n",
    "    print(variable)\n",
    "    print('----------------------------')\n",
    "    print('Mine')\n",
    "    print(ncfile[variable][:].shape)\n",
    "    print('')\n",
    "    print('Jeff')\n",
    "    print(data[variable][:].shape)\n",
    "    print('')"
   ]
  }
 ],
 "metadata": {
  "kernelspec": {
   "display_name": "base",
   "language": "python",
   "name": "python3"
  },
  "language_info": {
   "codemirror_mode": {
    "name": "ipython",
    "version": 3
   },
   "file_extension": ".py",
   "mimetype": "text/x-python",
   "name": "python",
   "nbconvert_exporter": "python",
   "pygments_lexer": "ipython3",
   "version": "3.9.12"
  },
  "orig_nbformat": 4
 },
 "nbformat": 4,
 "nbformat_minor": 2
}
