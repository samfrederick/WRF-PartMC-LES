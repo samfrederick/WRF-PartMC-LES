{
 "cells": [
  {
   "cell_type": "code",
   "execution_count": 1,
   "metadata": {},
   "outputs": [],
   "source": [
    "import numpy as np"
   ]
  },
  {
   "cell_type": "code",
   "execution_count": 44,
   "metadata": {},
   "outputs": [
    {
     "name": "stdout",
     "output_type": "stream",
     "text": [
      "{1,1,0,0,1,1,0,0,},\n",
      "{1,1,0,0,1,1,0,0,},\n",
      "{0,0,1,1,0,0,1,1,},\n",
      "{0,0,1,1,0,0,1,1,},\n",
      "{1,1,0,0,1,1,0,0,},\n",
      "{1,1,0,0,1,1,0,0,},\n",
      "{0,0,1,1,0,0,1,1,},\n",
      "{0,0,1,1,0,0,1,1,}\n"
     ]
    }
   ],
   "source": [
    "xdim = 8\n",
    "ydim = 8\n",
    "\n",
    "grid = {}\n",
    "\n",
    "arr = checkerboard_profile(fx=2, fy=2, xgrid=8, ygrid=8, zgrid=1, max_val=1, \n",
    "                            min_val=0, phase_shift=False)\n",
    "grid_vals = arr.data[0][0]\n",
    "\n",
    "for i in range(xdim):\n",
    "\n",
    "    row_str = '{'\n",
    "    for val in grid_vals[i, :]:\n",
    "        row_str += f'{int(val)},'\n",
    "    if i  == xdim -1:\n",
    "        row_str += '}'\n",
    "    else:\n",
    "        row_str += '},'\n",
    "    print(f'{row_str}')"
   ]
  },
  {
   "cell_type": "code",
   "execution_count": 40,
   "metadata": {},
   "outputs": [
    {
     "data": {
      "text/plain": [
       "array([[1., 1., 0., 0., 1., 1., 0., 0.],\n",
       "       [1., 1., 0., 0., 1., 1., 0., 0.],\n",
       "       [0., 0., 1., 1., 0., 0., 1., 1.],\n",
       "       [0., 0., 1., 1., 0., 0., 1., 1.],\n",
       "       [1., 1., 0., 0., 1., 1., 0., 0.],\n",
       "       [1., 1., 0., 0., 1., 1., 0., 0.],\n",
       "       [0., 0., 1., 1., 0., 0., 1., 1.],\n",
       "       [0., 0., 1., 1., 0., 0., 1., 1.]], dtype=float32)"
      ]
     },
     "execution_count": 40,
     "metadata": {},
     "output_type": "execute_result"
    }
   ],
   "source": []
  },
  {
   "cell_type": "code",
   "execution_count": 33,
   "metadata": {},
   "outputs": [],
   "source": [
    "def checkerboard_profile(fx, fy, xgrid, ygrid, zgrid, max_val, min_val, phase_shift=False):\n",
    "    xrange, yrange = xgrid, ygrid\n",
    "\n",
    "    if (fx == fy) and (fx == 0):\n",
    "        epsilon = 0.0\n",
    "    else:\n",
    "        epsilon = 0.001\n",
    "        \n",
    "    Ax, Ay = 1, 1\n",
    "    \n",
    "    #print(f'\\nUsing fx={fx} and fy={fy}\\n')\n",
    "    k = fx*2*np.pi/xrange #wavenumber 2pi / L\n",
    "    m = fy*2*np.pi/yrange\n",
    "    x=np.arange(xrange)\n",
    "    y=np.arange(yrange)\n",
    "    X,Y=np.meshgrid(x,y)\n",
    "    phi=Ax*np.sin(k*X+epsilon)*Ay*np.sin(m*Y+epsilon)\n",
    "\n",
    "    phi_star = phi.copy()\n",
    "\n",
    "    phi_star[phi_star > 0] = max_val\n",
    "    phi_star[phi_star <= 0] = min_val\n",
    "\n",
    "    if phase_shift:\n",
    "        if (fx == fy) or (fx<fy):\n",
    "            axis= 0\n",
    "        else:\n",
    "            axis = 1\n",
    "        phi_star = np.flip(phi_star, axis=axis)\n",
    "\n",
    "    mesh = np.zeros((xgrid, ygrid, zgrid))\n",
    "\n",
    "    mesh[:, :, :] = min_val # set lower bound over whole domain\n",
    "    mesh[:, :, 0] = phi_star # only set checkerboard values for the ground level\n",
    "\n",
    "    # transpose so z, y, x\n",
    "    mesh = mesh.T\n",
    "\n",
    "    mesh = np.ma.array(np.array([mesh]), mask=False, dtype='float32')\n",
    "\n",
    "    return mesh\n"
   ]
  }
 ],
 "metadata": {
  "kernelspec": {
   "display_name": "base",
   "language": "python",
   "name": "python3"
  },
  "language_info": {
   "codemirror_mode": {
    "name": "ipython",
    "version": 3
   },
   "file_extension": ".py",
   "mimetype": "text/x-python",
   "name": "python",
   "nbconvert_exporter": "python",
   "pygments_lexer": "ipython3",
   "version": "3.9.12"
  },
  "orig_nbformat": 4
 },
 "nbformat": 4,
 "nbformat_minor": 2
}
