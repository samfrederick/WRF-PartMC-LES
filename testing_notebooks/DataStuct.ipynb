{
 "cells": [
  {
   "cell_type": "code",
   "execution_count": 2,
   "metadata": {},
   "outputs": [],
   "source": [
    "import netCDF4 as nc\n",
    "import pandas as pd\n",
    "import os"
   ]
  },
  {
   "cell_type": "code",
   "execution_count": 18,
   "metadata": {},
   "outputs": [],
   "source": [
    "class DataStruct:\n",
    "    archive_path = None\n",
    "    aero_data = {}\n",
    "    aerodist_data = {}\n",
    "    wrf_data = {}\n",
    "    nsh_dict = {}\n",
    "    boxplot_data = {}\n",
    "    n_times = None\n",
    "    n_levels = None \n",
    "    domain_x_cells = None\n",
    "    domain_y_cells = None\n",
    "    historydelta_m = None\n",
    "\n",
    "    def addScenario(self, scenario_name, slurm_id, **kwargs):\n",
    "        start = kwargs.get('start_time', '2023-03-20_09:00:00')\n",
    "        self.aero_data[scenario_name] =  nc.Dataset(f'{self.archive_path}/slurm-{slurm_id}/aerosols_d01_{start}')\n",
    "        self.aerodist_data[scenario_name] =  nc.Dataset(f'{self.archive_path}/slurm-{slurm_id}/aerosol_dist_d01_{start}')\n",
    "        self.wrf_data[scenario_name] = nc.Dataset(f'{self.archive_path}/slurm-{slurm_id}/wrfout_d01_{start}')\n",
    "        self.nsh_dict[scenario_name] = {}\n",
    "\n",
    "        if (scenario_name == 'uniform-basecase' and not self.n_times):\n",
    "            self.addSimAttributes()\n",
    "    \n",
    "    def addSimAttributes(self):\n",
    "        try:\n",
    "            basecase_aerodata = self.aero_data['uniform-basecase']\n",
    "            self.n_times = basecase_aerodata.dimensions['Time'].size\n",
    "            self.n_levels = basecase_aerodata.dimensions['bottom_top'].size\n",
    "            self.domain_x_cells = basecase_aerodata.dimensions['west_east'].size\n",
    "            self.domain_y_cells = basecase_aerodata.dimensions['south_north'].size\n",
    "\n",
    "            times = self.wrf_data['uniform-basecase']['Times'][:].data\n",
    "            timestamps = [''.join(times[i].astype(str)) for i in range(times.shape[0])]\n",
    "            timestamps_dt = pd.to_datetime(timestamps, format='%Y-%m-%d_%H:%M:%S')\n",
    "            self.historydelta_m = (timestamps_dt[1] - timestamps_dt[0]).total_seconds()/60.0\n",
    "\n",
    "        except KeyError:\n",
    "            print('uniform-basecase not found in aero_data')\n",
    "    \n",
    "    def getScenarioList(self):\n",
    "        return list(self.aero_data.keys())\n",
    "    \n",
    "    def getScenarioSH(self, gridsize):\n",
    "        path = '/data/keeling/a/sf20/b/wrf-partmc-spatial-het/WRFV3/test/em_les/spatial-het'\n",
    "        filename = f'sh_patterns_xres{gridsize}_yres{gridsize}_exact.csv'\n",
    "        dataset = pd.read_csv(os.path.join(path, filename), index_col='scenario')\n",
    "        scenario_list = self.getScenarioList()\n",
    "        scenario_sh = {}\n",
    "        for scenario in scenario_list:\n",
    "            scenario_sh[scenario] = dataset.loc[scenario, 'NSH']\n",
    "        return scenario_sh"
   ]
  },
  {
   "cell_type": "code",
   "execution_count": 19,
   "metadata": {},
   "outputs": [],
   "source": [
    "Data = DataStruct()\n",
    "Data.archive_path = '/data/keeling/a/sf20/a/wrf-partmc-ideal-coagulation'\n",
    "Data.addScenario(scenario_name='uniform-basecase', slurm_id=1977120)"
   ]
  },
  {
   "cell_type": "code",
   "execution_count": 20,
   "metadata": {},
   "outputs": [
    {
     "data": {
      "text/plain": [
       "{'uniform-basecase': 0.0}"
      ]
     },
     "execution_count": 20,
     "metadata": {},
     "output_type": "execute_result"
    }
   ],
   "source": [
    "Data.getScenarioSH(gridsize=100)"
   ]
  },
  {
   "cell_type": "code",
   "execution_count": null,
   "metadata": {},
   "outputs": [],
   "source": []
  }
 ],
 "metadata": {
  "kernelspec": {
   "display_name": "base",
   "language": "python",
   "name": "python3"
  },
  "language_info": {
   "codemirror_mode": {
    "name": "ipython",
    "version": 3
   },
   "file_extension": ".py",
   "mimetype": "text/x-python",
   "name": "python",
   "nbconvert_exporter": "python",
   "pygments_lexer": "ipython3",
   "version": "3.9.12"
  }
 },
 "nbformat": 4,
 "nbformat_minor": 2
}
