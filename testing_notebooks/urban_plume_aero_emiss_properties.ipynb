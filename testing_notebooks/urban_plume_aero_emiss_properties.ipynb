{
 "cells": [
  {
   "cell_type": "code",
   "execution_count": 7,
   "metadata": {},
   "outputs": [],
   "source": [
    "import pandas as pd\n",
    "import numpy as np"
   ]
  },
  {
   "cell_type": "code",
   "execution_count": 11,
   "metadata": {},
   "outputs": [],
   "source": [
    "aero_props = pd.read_csv('/data/keeling/a/sf20/b/wrf_partmc/WRFV3/test/em_les/urban_plume_aero_emiss.csv')"
   ]
  },
  {
   "cell_type": "code",
   "execution_count": 3,
   "metadata": {},
   "outputs": [
    {
     "data": {
      "text/html": [
       "<div>\n",
       "<style scoped>\n",
       "    .dataframe tbody tr th:only-of-type {\n",
       "        vertical-align: middle;\n",
       "    }\n",
       "\n",
       "    .dataframe tbody tr th {\n",
       "        vertical-align: top;\n",
       "    }\n",
       "\n",
       "    .dataframe thead th {\n",
       "        text-align: right;\n",
       "    }\n",
       "</style>\n",
       "<table border=\"1\" class=\"dataframe\">\n",
       "  <thead>\n",
       "    <tr style=\"text-align: right;\">\n",
       "      <th></th>\n",
       "      <th>mode_name</th>\n",
       "      <th>mode_type</th>\n",
       "      <th>num_conc</th>\n",
       "      <th>geom_mean_diam</th>\n",
       "      <th>log10_geom_std_dev</th>\n",
       "      <th>mass_frac_OC</th>\n",
       "      <th>mass_frac_BC</th>\n",
       "    </tr>\n",
       "  </thead>\n",
       "  <tbody>\n",
       "    <tr>\n",
       "      <th>0</th>\n",
       "      <td>cooking</td>\n",
       "      <td>log_normal</td>\n",
       "      <td>9000000.0</td>\n",
       "      <td>8.640000e-08</td>\n",
       "      <td>0.28</td>\n",
       "      <td>1.0</td>\n",
       "      <td>NaN</td>\n",
       "    </tr>\n",
       "    <tr>\n",
       "      <th>1</th>\n",
       "      <td>diesel</td>\n",
       "      <td>log_normal</td>\n",
       "      <td>160000000.0</td>\n",
       "      <td>5.000000e-08</td>\n",
       "      <td>0.24</td>\n",
       "      <td>0.3</td>\n",
       "      <td>0.7</td>\n",
       "    </tr>\n",
       "    <tr>\n",
       "      <th>2</th>\n",
       "      <td>gasoline</td>\n",
       "      <td>log_normal</td>\n",
       "      <td>50000000.0</td>\n",
       "      <td>5.000000e-08</td>\n",
       "      <td>0.24</td>\n",
       "      <td>0.8</td>\n",
       "      <td>0.2</td>\n",
       "    </tr>\n",
       "  </tbody>\n",
       "</table>\n",
       "</div>"
      ],
      "text/plain": [
       "  mode_name   mode_type     num_conc  geom_mean_diam  log10_geom_std_dev  \\\n",
       "0   cooking  log_normal    9000000.0    8.640000e-08                0.28   \n",
       "1    diesel  log_normal  160000000.0    5.000000e-08                0.24   \n",
       "2  gasoline  log_normal   50000000.0    5.000000e-08                0.24   \n",
       "\n",
       "   mass_frac_OC  mass_frac_BC  \n",
       "0           1.0           NaN  \n",
       "1           0.3           0.7  \n",
       "2           0.8           0.2  "
      ]
     },
     "execution_count": 3,
     "metadata": {},
     "output_type": "execute_result"
    }
   ],
   "source": [
    "aero_props"
   ]
  },
  {
   "cell_type": "code",
   "execution_count": null,
   "metadata": {},
   "outputs": [],
   "source": []
  },
  {
   "cell_type": "code",
   "execution_count": 13,
   "metadata": {},
   "outputs": [
    {
     "data": {
      "text/plain": [
       "array([1, 2, 3])"
      ]
     },
     "execution_count": 13,
     "metadata": {},
     "output_type": "execute_result"
    }
   ],
   "source": [
    "np.array(1+aero_props.index)"
   ]
  },
  {
   "cell_type": "code",
   "execution_count": 21,
   "metadata": {},
   "outputs": [],
   "source": [
    "n_times = 25\n",
    "n_modes =3\n",
    "n_aero_specs = 20\n",
    "num_conc = np.zeros((n_times, n_modes))"
   ]
  },
  {
   "cell_type": "code",
   "execution_count": 18,
   "metadata": {},
   "outputs": [
    {
     "data": {
      "text/plain": [
       "0      9000000.0\n",
       "1    160000000.0\n",
       "2     50000000.0\n",
       "Name: num_conc, dtype: float64"
      ]
     },
     "execution_count": 18,
     "metadata": {},
     "output_type": "execute_result"
    }
   ],
   "source": [
    "aero_props.num_conc"
   ]
  },
  {
   "cell_type": "code",
   "execution_count": 19,
   "metadata": {},
   "outputs": [],
   "source": [
    "num_conc[:] = aero_props.num_conc"
   ]
  },
  {
   "cell_type": "code",
   "execution_count": 20,
   "metadata": {},
   "outputs": [
    {
     "data": {
      "text/plain": [
       "array([[9.0e+06, 1.6e+08, 5.0e+07],\n",
       "       [9.0e+06, 1.6e+08, 5.0e+07],\n",
       "       [9.0e+06, 1.6e+08, 5.0e+07],\n",
       "       [9.0e+06, 1.6e+08, 5.0e+07],\n",
       "       [9.0e+06, 1.6e+08, 5.0e+07],\n",
       "       [9.0e+06, 1.6e+08, 5.0e+07],\n",
       "       [9.0e+06, 1.6e+08, 5.0e+07],\n",
       "       [9.0e+06, 1.6e+08, 5.0e+07],\n",
       "       [9.0e+06, 1.6e+08, 5.0e+07],\n",
       "       [9.0e+06, 1.6e+08, 5.0e+07],\n",
       "       [9.0e+06, 1.6e+08, 5.0e+07],\n",
       "       [9.0e+06, 1.6e+08, 5.0e+07],\n",
       "       [9.0e+06, 1.6e+08, 5.0e+07],\n",
       "       [9.0e+06, 1.6e+08, 5.0e+07],\n",
       "       [9.0e+06, 1.6e+08, 5.0e+07],\n",
       "       [9.0e+06, 1.6e+08, 5.0e+07],\n",
       "       [9.0e+06, 1.6e+08, 5.0e+07],\n",
       "       [9.0e+06, 1.6e+08, 5.0e+07],\n",
       "       [9.0e+06, 1.6e+08, 5.0e+07],\n",
       "       [9.0e+06, 1.6e+08, 5.0e+07],\n",
       "       [9.0e+06, 1.6e+08, 5.0e+07],\n",
       "       [9.0e+06, 1.6e+08, 5.0e+07],\n",
       "       [9.0e+06, 1.6e+08, 5.0e+07],\n",
       "       [9.0e+06, 1.6e+08, 5.0e+07],\n",
       "       [9.0e+06, 1.6e+08, 5.0e+07]])"
      ]
     },
     "execution_count": 20,
     "metadata": {},
     "output_type": "execute_result"
    }
   ],
   "source": [
    "num_conc"
   ]
  },
  {
   "cell_type": "code",
   "execution_count": 22,
   "metadata": {},
   "outputs": [],
   "source": [
    "vol_frac = np.zeros((n_times, n_modes, n_aero_specs))"
   ]
  },
  {
   "cell_type": "code",
   "execution_count": 46,
   "metadata": {},
   "outputs": [],
   "source": [
    "OC_idx = 17\n",
    "BC_idx = 18\n",
    "cooking_mode_idx = 0\n",
    "diesel_mode_idx = 1\n",
    "gas_mode_idx = 2\n",
    "\n",
    "vol_frac[:, cooking_mode_idx, OC_idx] = 1\n",
    "\n",
    "vol_frac[:, diesel_mode_idx, OC_idx] = .3\n",
    "vol_frac[:, diesel_mode_idx, BC_idx] = .7\n",
    "\n",
    "vol_frac[:, gas_mode_idx, OC_idx] = .8\n",
    "vol_frac[:, gas_mode_idx, BC_idx] = .2"
   ]
  },
  {
   "cell_type": "code",
   "execution_count": 47,
   "metadata": {},
   "outputs": [
    {
     "data": {
      "text/plain": [
       "array([[[0. , 0. , 0. , ..., 1. , 0. , 0. ],\n",
       "        [0. , 0. , 0. , ..., 0.3, 0.7, 0. ],\n",
       "        [0. , 0. , 0. , ..., 0.8, 0.2, 0. ]],\n",
       "\n",
       "       [[0. , 0. , 0. , ..., 1. , 0. , 0. ],\n",
       "        [0. , 0. , 0. , ..., 0.3, 0.7, 0. ],\n",
       "        [0. , 0. , 0. , ..., 0.8, 0.2, 0. ]],\n",
       "\n",
       "       [[0. , 0. , 0. , ..., 1. , 0. , 0. ],\n",
       "        [0. , 0. , 0. , ..., 0.3, 0.7, 0. ],\n",
       "        [0. , 0. , 0. , ..., 0.8, 0.2, 0. ]],\n",
       "\n",
       "       ...,\n",
       "\n",
       "       [[0. , 0. , 0. , ..., 1. , 0. , 0. ],\n",
       "        [0. , 0. , 0. , ..., 0.3, 0.7, 0. ],\n",
       "        [0. , 0. , 0. , ..., 0.8, 0.2, 0. ]],\n",
       "\n",
       "       [[0. , 0. , 0. , ..., 1. , 0. , 0. ],\n",
       "        [0. , 0. , 0. , ..., 0.3, 0.7, 0. ],\n",
       "        [0. , 0. , 0. , ..., 0.8, 0.2, 0. ]],\n",
       "\n",
       "       [[0. , 0. , 0. , ..., 1. , 0. , 0. ],\n",
       "        [0. , 0. , 0. , ..., 0.3, 0.7, 0. ],\n",
       "        [0. , 0. , 0. , ..., 0.8, 0.2, 0. ]]])"
      ]
     },
     "execution_count": 47,
     "metadata": {},
     "output_type": "execute_result"
    }
   ],
   "source": [
    "vol_frac"
   ]
  },
  {
   "cell_type": "code",
   "execution_count": 28,
   "metadata": {},
   "outputs": [],
   "source": [
    "aero_species_list = ['SO4','NO3','Cl','NH4','MSA','ARO1','ARO2','ALK1','OLE1','API1',\n",
    "                'API2','LIM1','LIM2','CO3','Na','Ca','OIN','OC','BC','H2O']  "
   ]
  },
  {
   "cell_type": "code",
   "execution_count": 41,
   "metadata": {},
   "outputs": [],
   "source": [
    "aero_species = pd.DataFrame(aero_species_list, columns=['species'], index=np.arange(0,20))"
   ]
  },
  {
   "cell_type": "code",
   "execution_count": 45,
   "metadata": {},
   "outputs": [
    {
     "data": {
      "text/plain": [
       "'BC'"
      ]
     },
     "execution_count": 45,
     "metadata": {},
     "output_type": "execute_result"
    }
   ],
   "source": [
    "aero_species.iloc[18].species"
   ]
  },
  {
   "cell_type": "code",
   "execution_count": null,
   "metadata": {},
   "outputs": [],
   "source": []
  }
 ],
 "metadata": {
  "kernelspec": {
   "display_name": "base",
   "language": "python",
   "name": "python3"
  },
  "language_info": {
   "codemirror_mode": {
    "name": "ipython",
    "version": 3
   },
   "file_extension": ".py",
   "mimetype": "text/x-python",
   "name": "python",
   "nbconvert_exporter": "python",
   "pygments_lexer": "ipython3",
   "version": "3.9.12"
  },
  "orig_nbformat": 4
 },
 "nbformat": 4,
 "nbformat_minor": 2
}
