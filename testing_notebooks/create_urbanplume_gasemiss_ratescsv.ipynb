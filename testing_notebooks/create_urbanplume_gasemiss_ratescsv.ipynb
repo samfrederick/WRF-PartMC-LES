{
 "cells": [
  {
   "cell_type": "markdown",
   "metadata": {},
   "source": [
    "Create a csv file for urban-plume gas-phase emissions for relevant species. The csv needs to contain all gas phase species, regardless of whether they are of interest (because the order in which the species are listed in the CSV is important, used for assigning emission values in the aero_emit netcdf files)."
   ]
  },
  {
   "cell_type": "code",
   "execution_count": 37,
   "metadata": {},
   "outputs": [],
   "source": [
    "import pandas as pd\n",
    "import numpy as np"
   ]
  },
  {
   "cell_type": "code",
   "execution_count": 63,
   "metadata": {},
   "outputs": [],
   "source": [
    "gas_species = pd.read_csv('/data/keeling/a/sf20/b/wrf_partmc/WRFV3/test/em_les/gas_params.csv', header=0)\n",
    "urban_plume_emiss = pd.read_csv('/data/keeling/a/sf20/b/wrf_partmc/WRFV3/test/em_les/urban-plume-gas-emissions-ics.csv', header=0)\n",
    "\n",
    "urban_plume_gas_species = list(urban_plume_emiss.Symbol.values)\n",
    "\n",
    "urban_plume_data = pd.DataFrame()\n",
    "for i, species in enumerate(gas_species.Species.values):\n",
    "    urban_plume_data.loc[i, 'Species'] = species\n",
    "    if species.upper() in urban_plume_gas_species:\n",
    "        emiss_rate = urban_plume_emiss[urban_plume_emiss.Symbol==species.upper()]['Emissions (mol m^-2 s^-1)'].values[0]\n",
    "        urban_plume_data.loc[i, 'Emission rate (mol m^{-2} s^{-1})'] = emiss_rate\n",
    "    else:\n",
    "        urban_plume_data.loc[i, 'Emission rate (mol m^{-2} s^{-1})'] = 0\n",
    "        \n",
    "urban_plume_data.to_csv('urbanplume_gas_emiss_rates.csv', index=False)"
   ]
  }
 ],
 "metadata": {
  "kernelspec": {
   "display_name": "base",
   "language": "python",
   "name": "python3"
  },
  "language_info": {
   "codemirror_mode": {
    "name": "ipython",
    "version": 3
   },
   "file_extension": ".py",
   "mimetype": "text/x-python",
   "name": "python",
   "nbconvert_exporter": "python",
   "pygments_lexer": "ipython3",
   "version": "3.9.12"
  },
  "orig_nbformat": 4
 },
 "nbformat": 4,
 "nbformat_minor": 2
}
